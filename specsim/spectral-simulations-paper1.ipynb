{
 "cells": [
  {
   "cell_type": "markdown",
   "metadata": {},
   "source": [
    "# BGS Spectral Simulations\n",
    "\n",
    "The goal of this notebook is to do some BGS spectral simulations for paper one."
   ]
  },
  {
   "cell_type": "markdown",
   "metadata": {},
   "source": [
    "## Getting started.\n",
    "\n",
    "First, import all the package dependencies."
   ]
  },
  {
   "cell_type": "code",
   "execution_count": 57,
   "metadata": {
    "collapsed": true
   },
   "outputs": [],
   "source": [
    "import os\n",
    "import numpy as np\n",
    "%matplotlib inline\n",
    "import matplotlib.pyplot as plt\n",
    "from astropy.io import fits\n",
    "from astropy.table import Table\n",
    "import yaml"
   ]
  },
  {
   "cell_type": "code",
   "execution_count": 58,
   "metadata": {},
   "outputs": [],
   "source": [
    "import desispec.io\n",
    "import desisim.io\n",
    "from desisim.scripts import quickgen\n",
    "from desispec.scripts import group_spectra\n",
    "from desispec.io.util import write_bintable, makepath"
   ]
  },
  {
   "cell_type": "code",
   "execution_count": 59,
   "metadata": {},
   "outputs": [],
   "source": [
    "#%pylab inline\n",
    "from desiutil.log import get_logger\n",
    "log = get_logger(level='WARNING')"
   ]
  },
  {
   "cell_type": "code",
   "execution_count": 60,
   "metadata": {
    "collapsed": true
   },
   "outputs": [],
   "source": [
    "# currently in the bgssim branch of desisim\n",
    "from desisim.obs import new_exposure\n",
    "\n",
    "#    new_exposure(flavor, nspec=5000, night=None, expid=None, tileid=None,\n",
    "#                 airmass=1.0, exptime=None, seed=None, testslit=False,\n",
    "#                 arc_lines_filename=None, flat_spectrum_filename=None,\n",
    "#                 target_densities = {})\n",
    "#    returns :   fibermap, truth\n",
    "\n",
    "# or\n",
    "\n",
    "# wavelengths = qsim.source.wavelength_out.to(u.Angstrom).value\n",
    "# bgs = desisim.templates.BGS(wave=wavelengths, add_SNeIa=args.add_SNeIa)\n",
    "# flux, tmpwave, meta1 = bgs.make_templates(nmodel=nobj, seed=args.seed, zrange=args.zrange_bgs,\n",
    "#                    rmagrange=args.rmagrange_bgs,sne_rfluxratiorange=args.sne_rfluxratiorange)"
   ]
  },
  {
   "cell_type": "markdown",
   "metadata": {},
   "source": [
    "## Specify the parameters of the simulation.\n",
    "\n",
    "Next, let's specify the number and spectral type distribution of spectra we want to simulate, and the random seed.  Setting the seed here (which can be any number at all!) ensures that your simulations are reproducible.  Let's also explicitly set the *night* of the \"observations\" (the default is to use the current date) and the *expid* or exposure ID number (which would allow you to simulate more than one DESI exposure).\n",
    "\n",
    "The *flavor* option is used to choose the correct sky-brightness model and it also determines the distribution of targets for a given flavor.  For example, *flavor='dark'* returns the right relative sampling density of ELGs, LRGs, and QSOs.  The other available (science target) options for *flavor* are 'dark', 'gray', 'grey', 'bright', 'bgs', 'mws', 'lrg', 'elg', 'qso', and 'std'.  (You can also set flavor to either 'arc' or 'flat' but that would be boring!)"
   ]
  },
  {
   "cell_type": "code",
   "execution_count": 61,
   "metadata": {
    "collapsed": true
   },
   "outputs": [],
   "source": [
    "nspec = 200\n",
    "seed = 555\n",
    "night = '20170701'\n",
    "flavor = 'bgs'\n",
    "nexp = 10 # number of exposures"
   ]
  },
  {
   "cell_type": "markdown",
   "metadata": {},
   "source": [
    "#### Define the range of allowable observational conditions ####"
   ]
  },
  {
   "cell_type": "code",
   "execution_count": 62,
   "metadata": {
    "collapsed": true
   },
   "outputs": [],
   "source": [
    "exptime_range = (300, 300)\n",
    "airmass_range = (1.25, 1.25)\n",
    "moonphase_range = (0.0, 1.0)\n",
    "moonangle_range = (0, 150)\n",
    "moonzenith_range = (0, 60)"
   ]
  },
  {
   "cell_type": "markdown",
   "metadata": {},
   "source": [
    "#### Define the survey and targeting values for density, sky coverage, etc\n",
    "Any parameters you wish to set to the default can simply be commented out below,\n",
    "the code only replaces the keys that are defined"
   ]
  },
  {
   "cell_type": "code",
   "execution_count": 63,
   "metadata": {
    "collapsed": true
   },
   "outputs": [],
   "source": [
    "targ_dens = {}\n",
    "targ_dens['frac_std'] =  0.02\n",
    "targ_dens['frac_sky'] =  0.08\n",
    "\n",
    "targ_dens['area'] =  14000.0\n",
    "\n",
    "targ_dens['area_bgs'] =  14000\n",
    "targ_dens['nobs_bgs_bright'] =  762\n",
    "targ_dens['nobs_bgs_faint'] =  475\n",
    "targ_dens['ntarget_bgs_bright'] =  818\n",
    "targ_dens['ntarget_bgs_faint'] =  618\n",
    "targ_dens['success_bgs_bright'] =  0.97\n",
    "targ_dens['success_bgs_faint'] =  0.92\n",
    "\n",
    "targ_dens['nobs_mws'] =  700\n",
    "targ_dens['ntarget_mws'] =  736\n",
    "targ_dens['success_mws'] =  0.99"
   ]
  },
  {
   "cell_type": "markdown",
   "metadata": {},
   "source": [
    "## Check our environment variables"
   ]
  },
  {
   "cell_type": "code",
   "execution_count": 64,
   "metadata": {
    "collapsed": true
   },
   "outputs": [],
   "source": [
    "def check_env():\n",
    "    for env in ('DESIMODEL', 'DESI_ROOT', 'DESI_SPECTRO_SIM', 'DESI_SPECTRO_DATA', \n",
    "            'DESI_SPECTRO_REDUX', 'SPECPROD', 'PIXPROD','DESI_BASIS_TEMPLATES'):\n",
    "        if env in os.environ:\n",
    "            print('{} environment set to {}'.format(env, os.getenv(env)))\n",
    "        else:\n",
    "            print('Required environment variable {} not set!'.format(env))"
   ]
  },
  {
   "cell_type": "code",
   "execution_count": 65,
   "metadata": {},
   "outputs": [
    {
     "name": "stdout",
     "output_type": "stream",
     "text": [
      "DESIMODEL environment set to /global/common/edison/contrib/desi/code/desimodel/0.7.0\n",
      "DESI_ROOT environment set to /global/project/projectdirs/desi\n",
      "DESI_SPECTRO_SIM environment set to /global/project/projectdirs/desi/spectro/sim\n",
      "DESI_SPECTRO_DATA environment set to /global/project/projectdirs/desi/spectro/sim/bgs-specsim-paper-kr/\n",
      "DESI_SPECTRO_REDUX environment set to /global/project/projectdirs/desi/spectro/redux\n",
      "SPECPROD environment set to bgs-specsim-paper-kr\n",
      "PIXPROD environment set to bgs-specsim-paper-kr\n",
      "DESI_BASIS_TEMPLATES environment set to /project/projectdirs/desi/spectro/templates/basis_templates/trunk\n"
     ]
    }
   ],
   "source": [
    "check_env()"
   ]
  },
  {
   "cell_type": "code",
   "execution_count": 66,
   "metadata": {},
   "outputs": [
    {
     "name": "stdout",
     "output_type": "stream",
     "text": [
      "env: SPECPROD=bgs-specsim-paper-kr\n",
      "env: PIXPROD=bgs-specsim-paper-kr\n",
      "env: DESI_SPECTRO_DATA=/global/project/projectdirs/desi/spectro/sim/bgs-specsim-paper-kr/\n",
      "env: DESI_BASIS_TEMPLATES=/project/projectdirs/desi/spectro/templates/basis_templates/trunk\n",
      "Simulated raw data will be written to /global/project/projectdirs/desi/spectro/sim/bgs-specsim-paper-kr/\n",
      "Pipeline will read raw data from /global/project/projectdirs/desi/spectro/sim/bgs-specsim-paper-kr/\n",
      "    (without knowing that it was simulated)\n",
      "Pipeline will write processed data to /global/project/projectdirs/desi/spectro/redux/bgs-specsim-paper-kr\n"
     ]
    }
   ],
   "source": [
    "%set_env SPECPROD=bgs-specsim-paper-kr\n",
    "%set_env PIXPROD=bgs-specsim-paper-kr\n",
    "rawdata_dir = desisim.io.simdir()\n",
    "%set_env DESI_SPECTRO_DATA=$rawdata_dir\n",
    "%set_env DESI_BASIS_TEMPLATES=/project/projectdirs/desi/spectro/templates/basis_templates/trunk\n",
    "\n",
    "print('Simulated raw data will be written to {}'.format(desisim.io.simdir()))\n",
    "print('Pipeline will read raw data from {}'.format(desispec.io.rawdata_root()))\n",
    "print('    (without knowing that it was simulated)')\n",
    "print('Pipeline will write processed data to {}'.format(desispec.io.specprod_root()))"
   ]
  },
  {
   "cell_type": "markdown",
   "metadata": {},
   "source": [
    "## Generate the random conditions: ##\n",
    "given the conditions specified above\n",
    "#### Set the random state with the seed given"
   ]
  },
  {
   "cell_type": "code",
   "execution_count": 67,
   "metadata": {
    "collapsed": true
   },
   "outputs": [],
   "source": [
    "rand = np.random.RandomState(seed)"
   ]
  },
  {
   "cell_type": "markdown",
   "metadata": {},
   "source": [
    "#### Randomly select observing consitions for each exposure"
   ]
  },
  {
   "cell_type": "code",
   "execution_count": 68,
   "metadata": {
    "collapsed": true
   },
   "outputs": [],
   "source": [
    "expids = np.arange(nexp).astype(int)\n",
    "exptime = rand.uniform(exptime_range[0], exptime_range[1], nexp)\n",
    "airmass = rand.uniform(airmass_range[0], airmass_range[1], nexp)\n",
    "moonphase = rand.uniform(moonphase_range[0], moonphase_range[1], nexp)\n",
    "moonangle = rand.uniform(moonangle_range[0], moonangle_range[1], nexp)\n",
    "moonzenith = rand.uniform(moonzenith_range[0], moonzenith_range[1], nexp)"
   ]
  },
  {
   "cell_type": "markdown",
   "metadata": {},
   "source": [
    "#### Build a metadata table with the top-level simulation inputs."
   ]
  },
  {
   "cell_type": "code",
   "execution_count": 69,
   "metadata": {},
   "outputs": [],
   "source": [
    "metafile = os.path.join( desisim.io.simdir(), 'mysim.fits')\n",
    "metacols = [\n",
    "    ('BRICKNAME', 'S20'),\n",
    "    ('SEED', 'S20'),\n",
    "    ('EXPTIME', 'f4'),\n",
    "    ('AIRMASS', 'f4'),\n",
    "    ('MOONPHASE', 'f4'),\n",
    "    ('MOONANGLE', 'f4'),\n",
    "    ('MOONZENITH', 'f4')]\n",
    "meta = Table(np.zeros(nexp, dtype=metacols))\n",
    "meta['EXPTIME'].unit = 's'\n",
    "meta['MOONANGLE'].unit = 'deg'\n",
    "meta['MOONZENITH'].unit = 'deg'\n",
    "\n",
    "#meta['BRICKNAME'] = ['{}-{:03d}'.format(args.brickname, ii) for ii in range(args.nbrick)]\n",
    "meta['EXPTIME'] = exptime\n",
    "meta['AIRMASS'] = airmass\n",
    "meta['MOONPHASE'] = moonphase\n",
    "meta['MOONANGLE'] = moonangle\n",
    "meta['MOONZENITH'] = moonzenith\n",
    "\n",
    "log.info('Writing {}'.format(metafile))"
   ]
  },
  {
   "cell_type": "markdown",
   "metadata": {},
   "source": [
    "#### Open yaml to define the targeting parameter values ####\n",
    "Then for those defined above in targ_dens, change the default value to what we specified"
   ]
  },
  {
   "cell_type": "code",
   "execution_count": 70,
   "metadata": {},
   "outputs": [],
   "source": [
    "targetyaml = os.path.join(os.environ['DESIMODEL'],'data','targets','targets.yaml')\n",
    "tgt = yaml.load(open(targetyaml))\n",
    "for key, val in targ_dens.items():\n",
    "    tgt[key] = val\n"
   ]
  },
  {
   "cell_type": "markdown",
   "metadata": {},
   "source": [
    "## Generating noiseless *simspec* and *fibermap* spectral files ##\n",
    "\n",
    "The first step is to generate the `fibermap` and `simspec` files needed by `quickgen`.  The `fibermap` table contains (simulated) information about the position of each target in the DESI focal plane, while the `simspec` table holds the \"truth\" spectra and the intrinsic properties of each object (redshift, noiseless photometry, [OII] flux, etc.).\n",
    "\n",
    "In detail, the *simspec* and *fibermap* data models are described at  \n",
    "* http://desidatamodel.readthedocs.io/en/latest/DESI_SPECTRO_SIM/PIXPROD/NIGHT/simspec-EXPID.html\n",
    "* http://desidatamodel.readthedocs.io/en/latest/DESI_SPECTRO_DATA/NIGHT/fibermap-EXPID.html\n",
    "\n"
   ]
  },
  {
   "cell_type": "code",
   "execution_count": null,
   "metadata": {
    "scrolled": true
   },
   "outputs": [],
   "source": [
    "for ii,expid in enumerate(expids):\n",
    "    fibermap, truth = new_exposure(flavor, nspec=nspec, night=night, expid=int(expid), tileid=None,\\\n",
    "                 airmass=airmass[ii], exptime=exptime[ii], seed=seed,\\\n",
    "                 target_densities=tgt)"
   ]
  },
  {
   "cell_type": "markdown",
   "metadata": {},
   "source": [
    "## Simulate spectra using `quickgen` ##\n",
    "To get around the fact that we aren't using the command line, we use the arg parser\n",
    "and pass the arguments to the main function of quickgen directly.\n",
    "\n",
    "more information at:\n",
    "http://desidatamodel.readthedocs.io/en/latest/DESI_SPECTRO_REDUX/PRODNAME/exposures/NIGHT/EXPID/index.html\n",
    "\n",
    "`Quickgen` additional commands for 'quickbrick mode:'\n",
    "    '--objtype', 'BGS',\n",
    "    '--brickname', 'whatever',\n",
    "    '--zrange-bgs', (0.01, 0.4),\n",
    "    '--rmagrange-bgs', (15.0,19.5)\n",
    "    '--exptime', None\n",
    "   '--airmass', 1.5"
   ]
  },
  {
   "cell_type": "code",
   "execution_count": null,
   "metadata": {
    "collapsed": true
   },
   "outputs": [],
   "source": [
    "for ii,expid in enumerate(expids):\n",
    "    fiberfile = desispec.io.findfile('fibermap', night=night, expid=expid)\n",
    "    simspecfile = desisim.io.findfile('simspec', night=night, expid=expid)\n",
    "    args = quickgen.parse([\n",
    "                            '--simspec', simspecfile,\n",
    "                            '--fibermap', fiberfile,\n",
    "                            '--nspec', str(nspec),\n",
    "                            '--seed', str(seed),\n",
    "                            '--moon-phase', str(moonphase[ii]),\n",
    "                            '--moon-angle', str(moonangle[ii]),\n",
    "                            '--moon-zenith', str(moonzenith[ii])\n",
    "          ])\n",
    "    quickgen.main(args)\n",
    "    "
   ]
  },
  {
   "cell_type": "markdown",
   "metadata": {},
   "source": [
    "## Regroup the spectra ##\n",
    "\n",
    "working with `cframe` files is pretty tedious, especially across three cameras, 10 spectrographs, and more than 35 million targets!  Therefore, let's combine and reorganize the individual `cframe` files into `spectra` files grouped on the sky. Spectra are organized into healpix pixels (here chosen to have `nside=64`).  If you're interested, you can read more about the healpix directory structure here:  \n",
    "https://github.com/desihub/desispec/blob/master/doc/nb/Intro_to_DESI_spectra.ipynb\n",
    "\n",
    "Regrouping is especially important for real observations with overlapping tiles where the same object could be reobserved on different exposures separated by short or large amounts of time.\n"
   ]
  },
  {
   "cell_type": "code",
   "execution_count": 86,
   "metadata": {},
   "outputs": [
    {
     "name": "stderr",
     "output_type": "stream",
     "text": [
      "Exception ignored in: <function WeakValueDictionary.__init__.<locals>.remove at 0x2aab07a58598>\n",
      "Traceback (most recent call last):\n",
      "  File \"/global/common/edison/contrib/desi/code/desiconda/20170613-1.1.4-spectro_conda/lib/python3.5/weakref.py\", line 109, in remove\n",
      "    def remove(wr, selfref=ref(self)):\n",
      "KeyboardInterrupt\n",
      "Process ForkPoolWorker-426:\n",
      "Process ForkPoolWorker-415:\n",
      "Process ForkPoolWorker-423:\n",
      "Process ForkPoolWorker-429:\n",
      "Process ForkPoolWorker-400:\n",
      "Process ForkPoolWorker-433:\n",
      "Process ForkPoolWorker-434:\n",
      "Process ForkPoolWorker-401:\n",
      "Process ForkPoolWorker-425:\n",
      "Process ForkPoolWorker-431:\n",
      "Process ForkPoolWorker-406:\n",
      "Process ForkPoolWorker-407:\n",
      "Process ForkPoolWorker-435:\n",
      "Process ForkPoolWorker-408:\n",
      "Process ForkPoolWorker-412:\n",
      "Process ForkPoolWorker-432:\n",
      "Process ForkPoolWorker-417:\n",
      "Process ForkPoolWorker-403:\n",
      "Process ForkPoolWorker-421:\n",
      "Process ForkPoolWorker-402:\n",
      "Process ForkPoolWorker-410:\n",
      "Process ForkPoolWorker-405:\n",
      "Process ForkPoolWorker-397:\n",
      "Process ForkPoolWorker-404:\n",
      "Process ForkPoolWorker-428:\n",
      "Process ForkPoolWorker-395:\n",
      "Process ForkPoolWorker-418:\n",
      "Process ForkPoolWorker-430:\n",
      "Process ForkPoolWorker-416:\n",
      "Process ForkPoolWorker-399:\n",
      "Process ForkPoolWorker-419:\n",
      "Process ForkPoolWorker-398:\n",
      "Process ForkPoolWorker-411:\n",
      "Process ForkPoolWorker-396:\n",
      "Process ForkPoolWorker-424:\n",
      "Process ForkPoolWorker-422:\n",
      "Process ForkPoolWorker-420:\n",
      "Process ForkPoolWorker-427:\n",
      "Process ForkPoolWorker-414:\n",
      "Process ForkPoolWorker-413:\n",
      "Process ForkPoolWorker-409:\n",
      "Traceback (most recent call last):\n",
      "Traceback (most recent call last):\n",
      "Traceback (most recent call last):\n",
      "Traceback (most recent call last):\n",
      "Traceback (most recent call last):\n",
      "Traceback (most recent call last):\n",
      "Traceback (most recent call last):\n",
      "Traceback (most recent call last):\n",
      "Traceback (most recent call last):\n",
      "Traceback (most recent call last):\n",
      "Traceback (most recent call last):\n",
      "Traceback (most recent call last):\n",
      "Traceback (most recent call last):\n",
      "Traceback (most recent call last):\n",
      "Traceback (most recent call last):\n",
      "Traceback (most recent call last):\n",
      "Traceback (most recent call last):\n",
      "Traceback (most recent call last):\n",
      "Traceback (most recent call last):\n",
      "Traceback (most recent call last):\n",
      "Traceback (most recent call last):\n",
      "Traceback (most recent call last):\n",
      "Traceback (most recent call last):\n",
      "Traceback (most recent call last):\n",
      "Traceback (most recent call last):\n",
      "Traceback (most recent call last):\n",
      "Traceback (most recent call last):\n",
      "Traceback (most recent call last):\n",
      "Traceback (most recent call last):\n",
      "Traceback (most recent call last):\n",
      "Traceback (most recent call last):\n",
      "Traceback (most recent call last):\n",
      "  File \"/global/common/edison/contrib/desi/code/desiconda/20170613-1.1.4-spectro_conda/lib/python3.5/multiprocessing/process.py\", line 249, in _bootstrap\n",
      "    self.run()\n",
      "  File \"/global/common/edison/contrib/desi/code/desiconda/20170613-1.1.4-spectro_conda/lib/python3.5/multiprocessing/process.py\", line 249, in _bootstrap\n",
      "    self.run()\n",
      "Traceback (most recent call last):\n",
      "Traceback (most recent call last):\n",
      "Traceback (most recent call last):\n",
      "Traceback (most recent call last):\n",
      "  File \"/global/common/edison/contrib/desi/code/desiconda/20170613-1.1.4-spectro_conda/lib/python3.5/multiprocessing/process.py\", line 249, in _bootstrap\n",
      "    self.run()\n",
      "  File \"/global/common/edison/contrib/desi/code/desiconda/20170613-1.1.4-spectro_conda/lib/python3.5/multiprocessing/process.py\", line 249, in _bootstrap\n",
      "    self.run()\n",
      "  File \"/global/common/edison/contrib/desi/code/desiconda/20170613-1.1.4-spectro_conda/lib/python3.5/multiprocessing/process.py\", line 249, in _bootstrap\n",
      "    self.run()\n",
      "Traceback (most recent call last):\n",
      "  File \"/global/common/edison/contrib/desi/code/desiconda/20170613-1.1.4-spectro_conda/lib/python3.5/multiprocessing/process.py\", line 249, in _bootstrap\n",
      "    self.run()\n",
      "  File \"/global/common/edison/contrib/desi/code/desiconda/20170613-1.1.4-spectro_conda/lib/python3.5/multiprocessing/process.py\", line 249, in _bootstrap\n",
      "    self.run()\n",
      "Traceback (most recent call last):\n",
      "Traceback (most recent call last):\n",
      "  File \"/global/common/edison/contrib/desi/code/desiconda/20170613-1.1.4-spectro_conda/lib/python3.5/multiprocessing/process.py\", line 249, in _bootstrap\n",
      "    self.run()\n",
      "Traceback (most recent call last):\n",
      "Traceback (most recent call last):\n",
      "  File \"/global/common/edison/contrib/desi/code/desiconda/20170613-1.1.4-spectro_conda/lib/python3.5/multiprocessing/process.py\", line 249, in _bootstrap\n",
      "    self.run()\n",
      "  File \"/global/common/edison/contrib/desi/code/desiconda/20170613-1.1.4-spectro_conda/lib/python3.5/multiprocessing/process.py\", line 249, in _bootstrap\n",
      "    self.run()\n",
      "  File \"/global/common/edison/contrib/desi/code/desiconda/20170613-1.1.4-spectro_conda/lib/python3.5/multiprocessing/process.py\", line 249, in _bootstrap\n",
      "    self.run()\n",
      "  File \"/global/common/edison/contrib/desi/code/desiconda/20170613-1.1.4-spectro_conda/lib/python3.5/multiprocessing/process.py\", line 249, in _bootstrap\n",
      "    self.run()\n",
      "  File \"/global/common/edison/contrib/desi/code/desiconda/20170613-1.1.4-spectro_conda/lib/python3.5/multiprocessing/process.py\", line 249, in _bootstrap\n",
      "    self.run()\n",
      "  File \"/global/common/edison/contrib/desi/code/desiconda/20170613-1.1.4-spectro_conda/lib/python3.5/multiprocessing/process.py\", line 249, in _bootstrap\n",
      "    self.run()\n",
      "  File \"/global/common/edison/contrib/desi/code/desiconda/20170613-1.1.4-spectro_conda/lib/python3.5/multiprocessing/process.py\", line 249, in _bootstrap\n",
      "    self.run()\n",
      "  File \"/global/common/edison/contrib/desi/code/desiconda/20170613-1.1.4-spectro_conda/lib/python3.5/multiprocessing/process.py\", line 249, in _bootstrap\n",
      "    self.run()\n",
      "  File \"/global/common/edison/contrib/desi/code/desiconda/20170613-1.1.4-spectro_conda/lib/python3.5/multiprocessing/process.py\", line 249, in _bootstrap\n",
      "    self.run()\n",
      "  File \"/global/common/edison/contrib/desi/code/desiconda/20170613-1.1.4-spectro_conda/lib/python3.5/multiprocessing/process.py\", line 249, in _bootstrap\n",
      "    self.run()\n",
      "  File \"/global/common/edison/contrib/desi/code/desiconda/20170613-1.1.4-spectro_conda/lib/python3.5/multiprocessing/process.py\", line 249, in _bootstrap\n",
      "    self.run()\n",
      "  File \"/global/common/edison/contrib/desi/code/desiconda/20170613-1.1.4-spectro_conda/lib/python3.5/multiprocessing/process.py\", line 249, in _bootstrap\n",
      "    self.run()\n",
      "  File \"/global/common/edison/contrib/desi/code/desiconda/20170613-1.1.4-spectro_conda/lib/python3.5/multiprocessing/process.py\", line 249, in _bootstrap\n",
      "    self.run()\n",
      "  File \"/global/common/edison/contrib/desi/code/desiconda/20170613-1.1.4-spectro_conda/lib/python3.5/multiprocessing/process.py\", line 249, in _bootstrap\n",
      "    self.run()\n",
      "  File \"/global/common/edison/contrib/desi/code/desiconda/20170613-1.1.4-spectro_conda/lib/python3.5/multiprocessing/process.py\", line 249, in _bootstrap\n",
      "    self.run()\n",
      "  File \"/global/common/edison/contrib/desi/code/desiconda/20170613-1.1.4-spectro_conda/lib/python3.5/multiprocessing/process.py\", line 249, in _bootstrap\n",
      "    self.run()\n",
      "  File \"/global/common/edison/contrib/desi/code/desiconda/20170613-1.1.4-spectro_conda/lib/python3.5/multiprocessing/process.py\", line 249, in _bootstrap\n",
      "    self.run()\n",
      "  File \"/global/common/edison/contrib/desi/code/desiconda/20170613-1.1.4-spectro_conda/lib/python3.5/multiprocessing/process.py\", line 249, in _bootstrap\n",
      "    self.run()\n",
      "  File \"/global/common/edison/contrib/desi/code/desiconda/20170613-1.1.4-spectro_conda/lib/python3.5/multiprocessing/process.py\", line 249, in _bootstrap\n",
      "    self.run()\n",
      "  File \"/global/common/edison/contrib/desi/code/desiconda/20170613-1.1.4-spectro_conda/lib/python3.5/multiprocessing/process.py\", line 249, in _bootstrap\n",
      "    self.run()\n",
      "  File \"/global/common/edison/contrib/desi/code/desiconda/20170613-1.1.4-spectro_conda/lib/python3.5/multiprocessing/process.py\", line 249, in _bootstrap\n",
      "    self.run()\n",
      "  File \"/global/common/edison/contrib/desi/code/desiconda/20170613-1.1.4-spectro_conda/lib/python3.5/multiprocessing/process.py\", line 249, in _bootstrap\n",
      "    self.run()\n",
      "  File \"/global/common/edison/contrib/desi/code/desiconda/20170613-1.1.4-spectro_conda/lib/python3.5/multiprocessing/process.py\", line 93, in run\n",
      "    self._target(*self._args, **self._kwargs)\n",
      "  File \"/global/common/edison/contrib/desi/code/desiconda/20170613-1.1.4-spectro_conda/lib/python3.5/multiprocessing/process.py\", line 249, in _bootstrap\n",
      "    self.run()\n"
     ]
    },
    {
     "name": "stderr",
     "output_type": "stream",
     "text": [
      "  File \"/global/common/edison/contrib/desi/code/desiconda/20170613-1.1.4-spectro_conda/lib/python3.5/multiprocessing/process.py\", line 93, in run\n",
      "    self._target(*self._args, **self._kwargs)\n",
      "  File \"/global/common/edison/contrib/desi/code/desiconda/20170613-1.1.4-spectro_conda/lib/python3.5/multiprocessing/process.py\", line 249, in _bootstrap\n",
      "    self.run()\n",
      "  File \"/global/common/edison/contrib/desi/code/desiconda/20170613-1.1.4-spectro_conda/lib/python3.5/multiprocessing/process.py\", line 249, in _bootstrap\n",
      "    self.run()\n",
      "  File \"/global/common/edison/contrib/desi/code/desiconda/20170613-1.1.4-spectro_conda/lib/python3.5/multiprocessing/process.py\", line 249, in _bootstrap\n",
      "    self.run()\n",
      "  File \"/global/common/edison/contrib/desi/code/desiconda/20170613-1.1.4-spectro_conda/lib/python3.5/multiprocessing/process.py\", line 249, in _bootstrap\n",
      "    self.run()\n",
      "  File \"/global/common/edison/contrib/desi/code/desiconda/20170613-1.1.4-spectro_conda/lib/python3.5/multiprocessing/process.py\", line 93, in run\n",
      "    self._target(*self._args, **self._kwargs)\n",
      "  File \"/global/common/edison/contrib/desi/code/desiconda/20170613-1.1.4-spectro_conda/lib/python3.5/multiprocessing/process.py\", line 93, in run\n",
      "    self._target(*self._args, **self._kwargs)\n",
      "  File \"/global/common/edison/contrib/desi/code/desiconda/20170613-1.1.4-spectro_conda/lib/python3.5/multiprocessing/process.py\", line 249, in _bootstrap\n",
      "    self.run()\n",
      "  File \"/global/common/edison/contrib/desi/code/desiconda/20170613-1.1.4-spectro_conda/lib/python3.5/multiprocessing/process.py\", line 93, in run\n",
      "    self._target(*self._args, **self._kwargs)\n",
      "  File \"/global/common/edison/contrib/desi/code/desiconda/20170613-1.1.4-spectro_conda/lib/python3.5/multiprocessing/process.py\", line 93, in run\n",
      "    self._target(*self._args, **self._kwargs)\n",
      "  File \"/global/common/edison/contrib/desi/code/desiconda/20170613-1.1.4-spectro_conda/lib/python3.5/multiprocessing/process.py\", line 93, in run\n",
      "    self._target(*self._args, **self._kwargs)\n",
      "  File \"/global/common/edison/contrib/desi/code/desiconda/20170613-1.1.4-spectro_conda/lib/python3.5/multiprocessing/process.py\", line 249, in _bootstrap\n",
      "    self.run()\n",
      "  File \"/global/common/edison/contrib/desi/code/desiconda/20170613-1.1.4-spectro_conda/lib/python3.5/multiprocessing/process.py\", line 249, in _bootstrap\n",
      "    self.run()\n",
      "  File \"/global/common/edison/contrib/desi/code/desiconda/20170613-1.1.4-spectro_conda/lib/python3.5/multiprocessing/process.py\", line 249, in _bootstrap\n",
      "    self.run()\n",
      "  File \"/global/common/edison/contrib/desi/code/desiconda/20170613-1.1.4-spectro_conda/lib/python3.5/multiprocessing/process.py\", line 249, in _bootstrap\n",
      "    self.run()\n",
      "  File \"/global/common/edison/contrib/desi/code/desiconda/20170613-1.1.4-spectro_conda/lib/python3.5/multiprocessing/process.py\", line 93, in run\n",
      "    self._target(*self._args, **self._kwargs)\n",
      "  File \"/global/common/edison/contrib/desi/code/desiconda/20170613-1.1.4-spectro_conda/lib/python3.5/multiprocessing/process.py\", line 93, in run\n",
      "    self._target(*self._args, **self._kwargs)\n",
      "  File \"/global/common/edison/contrib/desi/code/desiconda/20170613-1.1.4-spectro_conda/lib/python3.5/multiprocessing/process.py\", line 249, in _bootstrap\n",
      "    self.run()\n",
      "  File \"/global/common/edison/contrib/desi/code/desiconda/20170613-1.1.4-spectro_conda/lib/python3.5/multiprocessing/process.py\", line 93, in run\n",
      "    self._target(*self._args, **self._kwargs)\n",
      "  File \"/global/common/edison/contrib/desi/code/desiconda/20170613-1.1.4-spectro_conda/lib/python3.5/multiprocessing/process.py\", line 93, in run\n",
      "    self._target(*self._args, **self._kwargs)\n",
      "  File \"/global/common/edison/contrib/desi/code/desiconda/20170613-1.1.4-spectro_conda/lib/python3.5/multiprocessing/process.py\", line 93, in run\n",
      "    self._target(*self._args, **self._kwargs)\n",
      "  File \"/global/common/edison/contrib/desi/code/desiconda/20170613-1.1.4-spectro_conda/lib/python3.5/multiprocessing/process.py\", line 93, in run\n",
      "    self._target(*self._args, **self._kwargs)\n",
      "  File \"/global/common/edison/contrib/desi/code/desiconda/20170613-1.1.4-spectro_conda/lib/python3.5/multiprocessing/process.py\", line 93, in run\n",
      "    self._target(*self._args, **self._kwargs)\n",
      "  File \"/global/common/edison/contrib/desi/code/desiconda/20170613-1.1.4-spectro_conda/lib/python3.5/multiprocessing/process.py\", line 93, in run\n",
      "    self._target(*self._args, **self._kwargs)\n",
      "  File \"/global/common/edison/contrib/desi/code/desiconda/20170613-1.1.4-spectro_conda/lib/python3.5/multiprocessing/process.py\", line 93, in run\n",
      "    self._target(*self._args, **self._kwargs)\n",
      "  File \"/global/common/edison/contrib/desi/code/desiconda/20170613-1.1.4-spectro_conda/lib/python3.5/multiprocessing/process.py\", line 93, in run\n",
      "    self._target(*self._args, **self._kwargs)\n",
      "  File \"/global/common/edison/contrib/desi/code/desiconda/20170613-1.1.4-spectro_conda/lib/python3.5/multiprocessing/process.py\", line 93, in run\n",
      "    self._target(*self._args, **self._kwargs)\n",
      "  File \"/global/common/edison/contrib/desi/code/desiconda/20170613-1.1.4-spectro_conda/lib/python3.5/multiprocessing/process.py\", line 93, in run\n",
      "    self._target(*self._args, **self._kwargs)\n",
      "  File \"/global/common/edison/contrib/desi/code/desiconda/20170613-1.1.4-spectro_conda/lib/python3.5/multiprocessing/process.py\", line 93, in run\n",
      "    self._target(*self._args, **self._kwargs)\n",
      "  File \"/global/common/edison/contrib/desi/code/desiconda/20170613-1.1.4-spectro_conda/lib/python3.5/multiprocessing/process.py\", line 93, in run\n",
      "    self._target(*self._args, **self._kwargs)\n",
      "  File \"/global/common/edison/contrib/desi/code/desiconda/20170613-1.1.4-spectro_conda/lib/python3.5/multiprocessing/process.py\", line 93, in run\n",
      "    self._target(*self._args, **self._kwargs)\n",
      "  File \"/global/common/edison/contrib/desi/code/desiconda/20170613-1.1.4-spectro_conda/lib/python3.5/multiprocessing/process.py\", line 93, in run\n",
      "    self._target(*self._args, **self._kwargs)\n",
      "  File \"/global/common/edison/contrib/desi/code/desiconda/20170613-1.1.4-spectro_conda/lib/python3.5/multiprocessing/process.py\", line 93, in run\n",
      "    self._target(*self._args, **self._kwargs)\n",
      "  File \"/global/common/edison/contrib/desi/code/desiconda/20170613-1.1.4-spectro_conda/lib/python3.5/multiprocessing/process.py\", line 93, in run\n",
      "    self._target(*self._args, **self._kwargs)\n",
      "  File \"/global/common/edison/contrib/desi/code/desiconda/20170613-1.1.4-spectro_conda/lib/python3.5/multiprocessing/process.py\", line 93, in run\n",
      "    self._target(*self._args, **self._kwargs)\n",
      "  File \"/global/common/edison/contrib/desi/code/desiconda/20170613-1.1.4-spectro_conda/lib/python3.5/multiprocessing/process.py\", line 93, in run\n",
      "    self._target(*self._args, **self._kwargs)\n",
      "  File \"/global/common/edison/contrib/desi/code/desiconda/20170613-1.1.4-spectro_conda/lib/python3.5/multiprocessing/pool.py\", line 108, in worker\n",
      "    task = get()\n",
      "  File \"/global/common/edison/contrib/desi/code/desiconda/20170613-1.1.4-spectro_conda/lib/python3.5/multiprocessing/process.py\", line 93, in run\n",
      "    self._target(*self._args, **self._kwargs)\n",
      "  File \"/global/common/edison/contrib/desi/code/desiconda/20170613-1.1.4-spectro_conda/lib/python3.5/multiprocessing/process.py\", line 93, in run\n",
      "    self._target(*self._args, **self._kwargs)\n",
      "  File \"/global/common/edison/contrib/desi/code/desiconda/20170613-1.1.4-spectro_conda/lib/python3.5/multiprocessing/process.py\", line 93, in run\n",
      "    self._target(*self._args, **self._kwargs)\n",
      "  File \"/global/common/edison/contrib/desi/code/desiconda/20170613-1.1.4-spectro_conda/lib/python3.5/multiprocessing/process.py\", line 93, in run\n",
      "    self._target(*self._args, **self._kwargs)\n",
      "  File \"/global/common/edison/contrib/desi/code/desiconda/20170613-1.1.4-spectro_conda/lib/python3.5/multiprocessing/process.py\", line 93, in run\n",
      "    self._target(*self._args, **self._kwargs)\n",
      "  File \"/global/common/edison/contrib/desi/code/desiconda/20170613-1.1.4-spectro_conda/lib/python3.5/multiprocessing/process.py\", line 93, in run\n",
      "    self._target(*self._args, **self._kwargs)\n",
      "  File \"/global/common/edison/contrib/desi/code/desiconda/20170613-1.1.4-spectro_conda/lib/python3.5/multiprocessing/process.py\", line 93, in run\n",
      "    self._target(*self._args, **self._kwargs)\n",
      "  File \"/global/common/edison/contrib/desi/code/desiconda/20170613-1.1.4-spectro_conda/lib/python3.5/multiprocessing/pool.py\", line 108, in worker\n",
      "    task = get()\n"
     ]
    },
    {
     "name": "stderr",
     "output_type": "stream",
     "text": [
      "  File \"/global/common/edison/contrib/desi/code/desiconda/20170613-1.1.4-spectro_conda/lib/python3.5/multiprocessing/pool.py\", line 108, in worker\n",
      "    task = get()\n",
      "  File \"/global/common/edison/contrib/desi/code/desiconda/20170613-1.1.4-spectro_conda/lib/python3.5/multiprocessing/process.py\", line 93, in run\n",
      "    self._target(*self._args, **self._kwargs)\n",
      "  File \"/global/common/edison/contrib/desi/code/desiconda/20170613-1.1.4-spectro_conda/lib/python3.5/multiprocessing/process.py\", line 93, in run\n",
      "    self._target(*self._args, **self._kwargs)\n",
      "  File \"/global/common/edison/contrib/desi/code/desiconda/20170613-1.1.4-spectro_conda/lib/python3.5/multiprocessing/pool.py\", line 108, in worker\n",
      "    task = get()\n",
      "  File \"/global/common/edison/contrib/desi/code/desiconda/20170613-1.1.4-spectro_conda/lib/python3.5/multiprocessing/pool.py\", line 108, in worker\n",
      "    task = get()\n",
      "  File \"/global/common/edison/contrib/desi/code/desiconda/20170613-1.1.4-spectro_conda/lib/python3.5/multiprocessing/pool.py\", line 108, in worker\n",
      "    task = get()\n",
      "  File \"/global/common/edison/contrib/desi/code/desiconda/20170613-1.1.4-spectro_conda/lib/python3.5/multiprocessing/pool.py\", line 108, in worker\n",
      "    task = get()\n",
      "  File \"/global/common/edison/contrib/desi/code/desiconda/20170613-1.1.4-spectro_conda/lib/python3.5/multiprocessing/process.py\", line 93, in run\n",
      "    self._target(*self._args, **self._kwargs)\n",
      "  File \"/global/common/edison/contrib/desi/code/desiconda/20170613-1.1.4-spectro_conda/lib/python3.5/multiprocessing/process.py\", line 93, in run\n",
      "    self._target(*self._args, **self._kwargs)\n",
      "  File \"/global/common/edison/contrib/desi/code/desiconda/20170613-1.1.4-spectro_conda/lib/python3.5/multiprocessing/process.py\", line 93, in run\n",
      "    self._target(*self._args, **self._kwargs)\n",
      "  File \"/global/common/edison/contrib/desi/code/desiconda/20170613-1.1.4-spectro_conda/lib/python3.5/multiprocessing/pool.py\", line 108, in worker\n",
      "    task = get()\n",
      "  File \"/global/common/edison/contrib/desi/code/desiconda/20170613-1.1.4-spectro_conda/lib/python3.5/multiprocessing/process.py\", line 93, in run\n",
      "    self._target(*self._args, **self._kwargs)\n",
      "  File \"/global/common/edison/contrib/desi/code/desiconda/20170613-1.1.4-spectro_conda/lib/python3.5/multiprocessing/process.py\", line 93, in run\n",
      "    self._target(*self._args, **self._kwargs)\n",
      "  File \"/global/common/edison/contrib/desi/code/desiconda/20170613-1.1.4-spectro_conda/lib/python3.5/multiprocessing/pool.py\", line 108, in worker\n",
      "    task = get()\n",
      "  File \"/global/common/edison/contrib/desi/code/desiconda/20170613-1.1.4-spectro_conda/lib/python3.5/multiprocessing/pool.py\", line 108, in worker\n",
      "    task = get()\n",
      "  File \"/global/common/edison/contrib/desi/code/desiconda/20170613-1.1.4-spectro_conda/lib/python3.5/multiprocessing/pool.py\", line 108, in worker\n",
      "    task = get()\n",
      "  File \"/global/common/edison/contrib/desi/code/desiconda/20170613-1.1.4-spectro_conda/lib/python3.5/multiprocessing/pool.py\", line 108, in worker\n",
      "    task = get()\n",
      "  File \"/global/common/edison/contrib/desi/code/desiconda/20170613-1.1.4-spectro_conda/lib/python3.5/multiprocessing/pool.py\", line 108, in worker\n",
      "    task = get()\n",
      "  File \"/global/common/edison/contrib/desi/code/desiconda/20170613-1.1.4-spectro_conda/lib/python3.5/multiprocessing/pool.py\", line 108, in worker\n",
      "    task = get()\n",
      "  File \"/global/common/edison/contrib/desi/code/desiconda/20170613-1.1.4-spectro_conda/lib/python3.5/multiprocessing/pool.py\", line 108, in worker\n",
      "    task = get()\n",
      "  File \"/global/common/edison/contrib/desi/code/desiconda/20170613-1.1.4-spectro_conda/lib/python3.5/multiprocessing/pool.py\", line 108, in worker\n",
      "    task = get()\n",
      "  File \"/global/common/edison/contrib/desi/code/desiconda/20170613-1.1.4-spectro_conda/lib/python3.5/multiprocessing/pool.py\", line 108, in worker\n",
      "    task = get()\n",
      "  File \"/global/common/edison/contrib/desi/code/desiconda/20170613-1.1.4-spectro_conda/lib/python3.5/multiprocessing/pool.py\", line 108, in worker\n",
      "    task = get()\n",
      "  File \"/global/common/edison/contrib/desi/code/desiconda/20170613-1.1.4-spectro_conda/lib/python3.5/multiprocessing/pool.py\", line 108, in worker\n",
      "    task = get()\n",
      "  File \"/global/common/edison/contrib/desi/code/desiconda/20170613-1.1.4-spectro_conda/lib/python3.5/multiprocessing/pool.py\", line 108, in worker\n",
      "    task = get()\n",
      "  File \"/global/common/edison/contrib/desi/code/desiconda/20170613-1.1.4-spectro_conda/lib/python3.5/multiprocessing/pool.py\", line 108, in worker\n",
      "    task = get()\n",
      "  File \"/global/common/edison/contrib/desi/code/desiconda/20170613-1.1.4-spectro_conda/lib/python3.5/multiprocessing/pool.py\", line 108, in worker\n",
      "    task = get()\n",
      "  File \"/global/common/edison/contrib/desi/code/desiconda/20170613-1.1.4-spectro_conda/lib/python3.5/multiprocessing/pool.py\", line 108, in worker\n",
      "    task = get()\n",
      "  File \"/global/common/edison/contrib/desi/code/desiconda/20170613-1.1.4-spectro_conda/lib/python3.5/multiprocessing/pool.py\", line 108, in worker\n",
      "    task = get()\n",
      "  File \"/global/common/edison/contrib/desi/code/desiconda/20170613-1.1.4-spectro_conda/lib/python3.5/multiprocessing/pool.py\", line 108, in worker\n",
      "    task = get()\n",
      "  File \"/global/common/edison/contrib/desi/code/desiconda/20170613-1.1.4-spectro_conda/lib/python3.5/multiprocessing/pool.py\", line 108, in worker\n",
      "    task = get()\n",
      "  File \"/global/common/edison/contrib/desi/code/desiconda/20170613-1.1.4-spectro_conda/lib/python3.5/multiprocessing/pool.py\", line 108, in worker\n",
      "    task = get()\n",
      "  File \"/global/common/edison/contrib/desi/code/desiconda/20170613-1.1.4-spectro_conda/lib/python3.5/multiprocessing/queues.py\", line 342, in get\n",
      "    with self._rlock:\n",
      "  File \"/global/common/edison/contrib/desi/code/desiconda/20170613-1.1.4-spectro_conda/lib/python3.5/multiprocessing/pool.py\", line 108, in worker\n",
      "    task = get()\n",
      "  File \"/global/common/edison/contrib/desi/code/desiconda/20170613-1.1.4-spectro_conda/lib/python3.5/multiprocessing/pool.py\", line 108, in worker\n",
      "    task = get()\n",
      "  File \"/global/common/edison/contrib/desi/code/desiconda/20170613-1.1.4-spectro_conda/lib/python3.5/multiprocessing/pool.py\", line 108, in worker\n",
      "    task = get()\n",
      "  File \"/global/common/edison/contrib/desi/code/desiconda/20170613-1.1.4-spectro_conda/lib/python3.5/multiprocessing/pool.py\", line 108, in worker\n",
      "    task = get()\n",
      "  File \"/global/common/edison/contrib/desi/code/desiconda/20170613-1.1.4-spectro_conda/lib/python3.5/multiprocessing/pool.py\", line 108, in worker\n",
      "    task = get()\n",
      "  File \"/global/common/edison/contrib/desi/code/desiconda/20170613-1.1.4-spectro_conda/lib/python3.5/multiprocessing/pool.py\", line 108, in worker\n",
      "    task = get()\n",
      "  File \"/global/common/edison/contrib/desi/code/desiconda/20170613-1.1.4-spectro_conda/lib/python3.5/multiprocessing/pool.py\", line 108, in worker\n",
      "    task = get()\n",
      "  File \"/global/common/edison/contrib/desi/code/desiconda/20170613-1.1.4-spectro_conda/lib/python3.5/multiprocessing/queues.py\", line 342, in get\n",
      "    with self._rlock:\n",
      "  File \"/global/common/edison/contrib/desi/code/desiconda/20170613-1.1.4-spectro_conda/lib/python3.5/multiprocessing/pool.py\", line 108, in worker\n",
      "    task = get()\n",
      "  File \"/global/common/edison/contrib/desi/code/desiconda/20170613-1.1.4-spectro_conda/lib/python3.5/multiprocessing/pool.py\", line 108, in worker\n",
      "    task = get()\n",
      "  File \"/global/common/edison/contrib/desi/code/desiconda/20170613-1.1.4-spectro_conda/lib/python3.5/multiprocessing/queues.py\", line 342, in get\n",
      "    with self._rlock:\n",
      "  File \"/global/common/edison/contrib/desi/code/desiconda/20170613-1.1.4-spectro_conda/lib/python3.5/multiprocessing/queues.py\", line 342, in get\n",
      "    with self._rlock:\n",
      "  File \"/global/common/edison/contrib/desi/code/desiconda/20170613-1.1.4-spectro_conda/lib/python3.5/multiprocessing/queues.py\", line 342, in get\n",
      "    with self._rlock:\n",
      "  File \"/global/common/edison/contrib/desi/code/desiconda/20170613-1.1.4-spectro_conda/lib/python3.5/multiprocessing/queues.py\", line 342, in get\n",
      "    with self._rlock:\n",
      "  File \"/global/common/edison/contrib/desi/code/desiconda/20170613-1.1.4-spectro_conda/lib/python3.5/multiprocessing/queues.py\", line 342, in get\n",
      "    with self._rlock:\n",
      "  File \"/global/common/edison/contrib/desi/code/desiconda/20170613-1.1.4-spectro_conda/lib/python3.5/multiprocessing/pool.py\", line 108, in worker\n",
      "    task = get()\n"
     ]
    },
    {
     "name": "stderr",
     "output_type": "stream",
     "text": [
      "  File \"/global/common/edison/contrib/desi/code/desiconda/20170613-1.1.4-spectro_conda/lib/python3.5/multiprocessing/pool.py\", line 108, in worker\n",
      "    task = get()\n",
      "  File \"/global/common/edison/contrib/desi/code/desiconda/20170613-1.1.4-spectro_conda/lib/python3.5/multiprocessing/pool.py\", line 108, in worker\n",
      "    task = get()\n",
      "  File \"/global/common/edison/contrib/desi/code/desiconda/20170613-1.1.4-spectro_conda/lib/python3.5/multiprocessing/pool.py\", line 108, in worker\n",
      "    task = get()\n",
      "  File \"/global/common/edison/contrib/desi/code/desiconda/20170613-1.1.4-spectro_conda/lib/python3.5/multiprocessing/queues.py\", line 342, in get\n",
      "    with self._rlock:\n",
      "  File \"/global/common/edison/contrib/desi/code/desiconda/20170613-1.1.4-spectro_conda/lib/python3.5/multiprocessing/queues.py\", line 342, in get\n",
      "    with self._rlock:\n",
      "  File \"/global/common/edison/contrib/desi/code/desiconda/20170613-1.1.4-spectro_conda/lib/python3.5/multiprocessing/queues.py\", line 342, in get\n",
      "    with self._rlock:\n",
      "  File \"/global/common/edison/contrib/desi/code/desiconda/20170613-1.1.4-spectro_conda/lib/python3.5/multiprocessing/queues.py\", line 342, in get\n",
      "    with self._rlock:\n",
      "  File \"/global/common/edison/contrib/desi/code/desiconda/20170613-1.1.4-spectro_conda/lib/python3.5/multiprocessing/queues.py\", line 342, in get\n",
      "    with self._rlock:\n",
      "  File \"/global/common/edison/contrib/desi/code/desiconda/20170613-1.1.4-spectro_conda/lib/python3.5/multiprocessing/pool.py\", line 108, in worker\n",
      "    task = get()\n",
      "  File \"/global/common/edison/contrib/desi/code/desiconda/20170613-1.1.4-spectro_conda/lib/python3.5/multiprocessing/queues.py\", line 342, in get\n",
      "    with self._rlock:\n",
      "  File \"/global/common/edison/contrib/desi/code/desiconda/20170613-1.1.4-spectro_conda/lib/python3.5/multiprocessing/queues.py\", line 342, in get\n",
      "    with self._rlock:\n",
      "  File \"/global/common/edison/contrib/desi/code/desiconda/20170613-1.1.4-spectro_conda/lib/python3.5/multiprocessing/queues.py\", line 342, in get\n",
      "    with self._rlock:\n",
      "  File \"/global/common/edison/contrib/desi/code/desiconda/20170613-1.1.4-spectro_conda/lib/python3.5/multiprocessing/queues.py\", line 342, in get\n",
      "    with self._rlock:\n"
     ]
    },
    {
     "ename": "KeyboardInterrupt",
     "evalue": "",
     "output_type": "error",
     "traceback": [
      "\u001b[0;31m---------------------------------------------------------------------------\u001b[0m",
      "\u001b[0;31mKeyboardInterrupt\u001b[0m                         Traceback (most recent call last)",
      "\u001b[0;32m<ipython-input-86-92f066538534>\u001b[0m in \u001b[0;36m<module>\u001b[0;34m()\u001b[0m\n\u001b[1;32m      1\u001b[0m \u001b[0mnside\u001b[0m \u001b[0;34m=\u001b[0m \u001b[0;36m64\u001b[0m\u001b[0;34m\u001b[0m\u001b[0m\n\u001b[1;32m      2\u001b[0m \u001b[0margs\u001b[0m \u001b[0;34m=\u001b[0m \u001b[0mgroup_spectra\u001b[0m\u001b[0;34m.\u001b[0m\u001b[0mparse\u001b[0m\u001b[0;34m(\u001b[0m\u001b[0;34m[\u001b[0m\u001b[0;34m'--hpxnside'\u001b[0m\u001b[0;34m,\u001b[0m \u001b[0;34m'{}'\u001b[0m\u001b[0;34m.\u001b[0m\u001b[0mformat\u001b[0m\u001b[0;34m(\u001b[0m\u001b[0mnside\u001b[0m\u001b[0;34m)\u001b[0m\u001b[0;34m]\u001b[0m\u001b[0;34m)\u001b[0m\u001b[0;34m\u001b[0m\u001b[0m\n\u001b[0;32m----> 3\u001b[0;31m \u001b[0mgroup_spectra\u001b[0m\u001b[0;34m.\u001b[0m\u001b[0mmain\u001b[0m\u001b[0;34m(\u001b[0m\u001b[0margs\u001b[0m\u001b[0;34m)\u001b[0m\u001b[0;34m\u001b[0m\u001b[0m\n\u001b[0m",
      "\u001b[0;32m/global/common/edison/contrib/desi/code/desispec/0.15.1/lib/python3.5/site-packages/desispec-0.15.1-py3.5.egg/desispec/scripts/group_spectra.py\u001b[0m in \u001b[0;36mmain\u001b[0;34m(args, comm)\u001b[0m\n\u001b[1;32m    114\u001b[0m                         \u001b[0mgrph\u001b[0m\u001b[0;34m[\u001b[0m\u001b[0mcfname\u001b[0m\u001b[0;34m]\u001b[0m \u001b[0;34m=\u001b[0m \u001b[0mnode\u001b[0m\u001b[0;34m\u001b[0m\u001b[0m\n\u001b[1;32m    115\u001b[0m \u001b[0;34m\u001b[0m\u001b[0m\n\u001b[0;32m--> 116\u001b[0;31m                         \u001b[0mcframe\u001b[0m \u001b[0;34m=\u001b[0m \u001b[0mio\u001b[0m\u001b[0;34m.\u001b[0m\u001b[0mread_frame\u001b[0m\u001b[0;34m(\u001b[0m\u001b[0mcf\u001b[0m\u001b[0;34m)\u001b[0m\u001b[0;34m\u001b[0m\u001b[0m\n\u001b[0m\u001b[1;32m    117\u001b[0m                         \u001b[0mfmdata\u001b[0m \u001b[0;34m=\u001b[0m \u001b[0mcframe\u001b[0m\u001b[0;34m.\u001b[0m\u001b[0mfibermap\u001b[0m\u001b[0;34m\u001b[0m\u001b[0m\n\u001b[1;32m    118\u001b[0m \u001b[0;34m\u001b[0m\u001b[0m\n",
      "\u001b[0;32m/global/common/edison/contrib/desi/code/desispec/0.15.1/lib/python3.5/site-packages/desispec-0.15.1-py3.5.egg/desispec/io/frame.py\u001b[0m in \u001b[0;36mread_frame\u001b[0;34m(filename, nspec)\u001b[0m\n\u001b[1;32m    114\u001b[0m         \u001b[0;32mraise\u001b[0m \u001b[0mIOError\u001b[0m\u001b[0;34m(\u001b[0m\u001b[0;34m\"cannot open\"\u001b[0m\u001b[0;34m+\u001b[0m\u001b[0mfilename\u001b[0m\u001b[0;34m)\u001b[0m\u001b[0;34m\u001b[0m\u001b[0m\n\u001b[1;32m    115\u001b[0m \u001b[0;34m\u001b[0m\u001b[0m\n\u001b[0;32m--> 116\u001b[0;31m     \u001b[0mfx\u001b[0m \u001b[0;34m=\u001b[0m \u001b[0mfits\u001b[0m\u001b[0;34m.\u001b[0m\u001b[0mopen\u001b[0m\u001b[0;34m(\u001b[0m\u001b[0mfilename\u001b[0m\u001b[0;34m,\u001b[0m \u001b[0muint\u001b[0m\u001b[0;34m=\u001b[0m\u001b[0;32mTrue\u001b[0m\u001b[0;34m,\u001b[0m \u001b[0mmemmap\u001b[0m\u001b[0;34m=\u001b[0m\u001b[0;32mFalse\u001b[0m\u001b[0;34m)\u001b[0m\u001b[0;34m\u001b[0m\u001b[0m\n\u001b[0m\u001b[1;32m    117\u001b[0m     \u001b[0mhdr\u001b[0m \u001b[0;34m=\u001b[0m \u001b[0mfx\u001b[0m\u001b[0;34m[\u001b[0m\u001b[0;36m0\u001b[0m\u001b[0;34m]\u001b[0m\u001b[0;34m.\u001b[0m\u001b[0mheader\u001b[0m\u001b[0;34m\u001b[0m\u001b[0m\n\u001b[1;32m    118\u001b[0m     \u001b[0mflux\u001b[0m \u001b[0;34m=\u001b[0m \u001b[0mnative_endian\u001b[0m\u001b[0;34m(\u001b[0m\u001b[0mfx\u001b[0m\u001b[0;34m[\u001b[0m\u001b[0;34m'FLUX'\u001b[0m\u001b[0;34m]\u001b[0m\u001b[0;34m.\u001b[0m\u001b[0mdata\u001b[0m\u001b[0;34m.\u001b[0m\u001b[0mastype\u001b[0m\u001b[0;34m(\u001b[0m\u001b[0;34m'f8'\u001b[0m\u001b[0;34m)\u001b[0m\u001b[0;34m)\u001b[0m\u001b[0;34m\u001b[0m\u001b[0m\n",
      "\u001b[0;32m/global/common/edison/contrib/desi/code/desiconda/20170613-1.1.4-spectro_conda/lib/python3.5/site-packages/astropy/io/fits/hdu/hdulist.py\u001b[0m in \u001b[0;36mfitsopen\u001b[0;34m(name, mode, memmap, save_backup, cache, lazy_load_hdus, **kwargs)\u001b[0m\n\u001b[1;32m    164\u001b[0m \u001b[0;34m\u001b[0m\u001b[0m\n\u001b[1;32m    165\u001b[0m     return HDUList.fromfile(name, mode, memmap, save_backup, cache,\n\u001b[0;32m--> 166\u001b[0;31m                             lazy_load_hdus, **kwargs)\n\u001b[0m\u001b[1;32m    167\u001b[0m \u001b[0;34m\u001b[0m\u001b[0m\n\u001b[1;32m    168\u001b[0m \u001b[0;34m\u001b[0m\u001b[0m\n",
      "\u001b[0;32m/global/common/edison/contrib/desi/code/desiconda/20170613-1.1.4-spectro_conda/lib/python3.5/site-packages/astropy/io/fits/hdu/hdulist.py\u001b[0m in \u001b[0;36mfromfile\u001b[0;34m(cls, fileobj, mode, memmap, save_backup, cache, lazy_load_hdus, **kwargs)\u001b[0m\n\u001b[1;32m    402\u001b[0m         return cls._readfrom(fileobj=fileobj, mode=mode, memmap=memmap,\n\u001b[1;32m    403\u001b[0m                              \u001b[0msave_backup\u001b[0m\u001b[0;34m=\u001b[0m\u001b[0msave_backup\u001b[0m\u001b[0;34m,\u001b[0m \u001b[0mcache\u001b[0m\u001b[0;34m=\u001b[0m\u001b[0mcache\u001b[0m\u001b[0;34m,\u001b[0m\u001b[0;34m\u001b[0m\u001b[0m\n\u001b[0;32m--> 404\u001b[0;31m                              lazy_load_hdus=lazy_load_hdus, **kwargs)\n\u001b[0m\u001b[1;32m    405\u001b[0m \u001b[0;34m\u001b[0m\u001b[0m\n\u001b[1;32m    406\u001b[0m     \u001b[0;34m@\u001b[0m\u001b[0mclassmethod\u001b[0m\u001b[0;34m\u001b[0m\u001b[0m\n",
      "\u001b[0;32m/global/common/edison/contrib/desi/code/desiconda/20170613-1.1.4-spectro_conda/lib/python3.5/site-packages/astropy/io/fits/hdu/hdulist.py\u001b[0m in \u001b[0;36m_readfrom\u001b[0;34m(cls, fileobj, data, mode, memmap, save_backup, cache, lazy_load_hdus, **kwargs)\u001b[0m\n\u001b[1;32m   1013\u001b[0m             \u001b[0;32mif\u001b[0m \u001b[0;32mnot\u001b[0m \u001b[0misinstance\u001b[0m\u001b[0;34m(\u001b[0m\u001b[0mfileobj\u001b[0m\u001b[0;34m,\u001b[0m \u001b[0m_File\u001b[0m\u001b[0;34m)\u001b[0m\u001b[0;34m:\u001b[0m\u001b[0;34m\u001b[0m\u001b[0m\n\u001b[1;32m   1014\u001b[0m                 \u001b[0;31m# instantiate a FITS file object (ffo)\u001b[0m\u001b[0;34m\u001b[0m\u001b[0;34m\u001b[0m\u001b[0m\n\u001b[0;32m-> 1015\u001b[0;31m                 \u001b[0mfileobj\u001b[0m \u001b[0;34m=\u001b[0m \u001b[0m_File\u001b[0m\u001b[0;34m(\u001b[0m\u001b[0mfileobj\u001b[0m\u001b[0;34m,\u001b[0m \u001b[0mmode\u001b[0m\u001b[0;34m=\u001b[0m\u001b[0mmode\u001b[0m\u001b[0;34m,\u001b[0m \u001b[0mmemmap\u001b[0m\u001b[0;34m=\u001b[0m\u001b[0mmemmap\u001b[0m\u001b[0;34m,\u001b[0m \u001b[0mcache\u001b[0m\u001b[0;34m=\u001b[0m\u001b[0mcache\u001b[0m\u001b[0;34m)\u001b[0m\u001b[0;34m\u001b[0m\u001b[0m\n\u001b[0m\u001b[1;32m   1016\u001b[0m             \u001b[0;31m# The pyfits mode is determined by the _File initializer if the\u001b[0m\u001b[0;34m\u001b[0m\u001b[0;34m\u001b[0m\u001b[0m\n\u001b[1;32m   1017\u001b[0m             \u001b[0;31m# supplied mode was None\u001b[0m\u001b[0;34m\u001b[0m\u001b[0;34m\u001b[0m\u001b[0m\n",
      "\u001b[0;32m/global/common/edison/contrib/desi/code/desiconda/20170613-1.1.4-spectro_conda/lib/python3.5/site-packages/astropy/utils/decorators.py\u001b[0m in \u001b[0;36mwrapper\u001b[0;34m(*args, **kwargs)\u001b[0m\n\u001b[1;32m    505\u001b[0m                         \u001b[0;31m# one with the name of the new argument to the function\u001b[0m\u001b[0;34m\u001b[0m\u001b[0;34m\u001b[0m\u001b[0m\n\u001b[1;32m    506\u001b[0m                         \u001b[0mkwargs\u001b[0m\u001b[0;34m[\u001b[0m\u001b[0mnew_name\u001b[0m\u001b[0;34m[\u001b[0m\u001b[0mi\u001b[0m\u001b[0;34m]\u001b[0m\u001b[0;34m]\u001b[0m \u001b[0;34m=\u001b[0m \u001b[0mvalue\u001b[0m\u001b[0;34m\u001b[0m\u001b[0m\n\u001b[0;32m--> 507\u001b[0;31m             \u001b[0;32mreturn\u001b[0m \u001b[0mfunction\u001b[0m\u001b[0;34m(\u001b[0m\u001b[0;34m*\u001b[0m\u001b[0margs\u001b[0m\u001b[0;34m,\u001b[0m \u001b[0;34m**\u001b[0m\u001b[0mkwargs\u001b[0m\u001b[0;34m)\u001b[0m\u001b[0;34m\u001b[0m\u001b[0m\n\u001b[0m\u001b[1;32m    508\u001b[0m \u001b[0;34m\u001b[0m\u001b[0m\n\u001b[1;32m    509\u001b[0m         \u001b[0;32mreturn\u001b[0m \u001b[0mwrapper\u001b[0m\u001b[0;34m\u001b[0m\u001b[0m\n",
      "\u001b[0;32m/global/common/edison/contrib/desi/code/desiconda/20170613-1.1.4-spectro_conda/lib/python3.5/site-packages/astropy/io/fits/file.py\u001b[0m in \u001b[0;36m__init__\u001b[0;34m(self, fileobj, mode, memmap, overwrite, cache)\u001b[0m\n\u001b[1;32m    142\u001b[0m             \u001b[0mself\u001b[0m\u001b[0;34m.\u001b[0m\u001b[0m_open_fileobj\u001b[0m\u001b[0;34m(\u001b[0m\u001b[0mfileobj\u001b[0m\u001b[0;34m,\u001b[0m \u001b[0mmode\u001b[0m\u001b[0;34m,\u001b[0m \u001b[0moverwrite\u001b[0m\u001b[0;34m)\u001b[0m\u001b[0;34m\u001b[0m\u001b[0m\n\u001b[1;32m    143\u001b[0m         \u001b[0;32melif\u001b[0m \u001b[0misinstance\u001b[0m\u001b[0;34m(\u001b[0m\u001b[0mfileobj\u001b[0m\u001b[0;34m,\u001b[0m \u001b[0mstring_types\u001b[0m\u001b[0;34m)\u001b[0m\u001b[0;34m:\u001b[0m\u001b[0;34m\u001b[0m\u001b[0m\n\u001b[0;32m--> 144\u001b[0;31m             \u001b[0mself\u001b[0m\u001b[0;34m.\u001b[0m\u001b[0m_open_filename\u001b[0m\u001b[0;34m(\u001b[0m\u001b[0mfileobj\u001b[0m\u001b[0;34m,\u001b[0m \u001b[0mmode\u001b[0m\u001b[0;34m,\u001b[0m \u001b[0moverwrite\u001b[0m\u001b[0;34m)\u001b[0m\u001b[0;34m\u001b[0m\u001b[0m\n\u001b[0m\u001b[1;32m    145\u001b[0m         \u001b[0;32melse\u001b[0m\u001b[0;34m:\u001b[0m\u001b[0;34m\u001b[0m\u001b[0m\n\u001b[1;32m    146\u001b[0m             \u001b[0mself\u001b[0m\u001b[0;34m.\u001b[0m\u001b[0m_open_filelike\u001b[0m\u001b[0;34m(\u001b[0m\u001b[0mfileobj\u001b[0m\u001b[0;34m,\u001b[0m \u001b[0mmode\u001b[0m\u001b[0;34m,\u001b[0m \u001b[0moverwrite\u001b[0m\u001b[0;34m)\u001b[0m\u001b[0;34m\u001b[0m\u001b[0m\n",
      "\u001b[0;32m/global/common/edison/contrib/desi/code/desiconda/20170613-1.1.4-spectro_conda/lib/python3.5/site-packages/astropy/io/fits/file.py\u001b[0m in \u001b[0;36m_open_filename\u001b[0;34m(self, filename, mode, overwrite)\u001b[0m\n\u001b[1;32m    475\u001b[0m         \u001b[0;32mif\u001b[0m \u001b[0mos\u001b[0m\u001b[0;34m.\u001b[0m\u001b[0mpath\u001b[0m\u001b[0;34m.\u001b[0m\u001b[0mexists\u001b[0m\u001b[0;34m(\u001b[0m\u001b[0mself\u001b[0m\u001b[0;34m.\u001b[0m\u001b[0mname\u001b[0m\u001b[0;34m)\u001b[0m\u001b[0;34m:\u001b[0m\u001b[0;34m\u001b[0m\u001b[0m\n\u001b[1;32m    476\u001b[0m             \u001b[0;32mwith\u001b[0m \u001b[0mfileobj_open\u001b[0m\u001b[0;34m(\u001b[0m\u001b[0mself\u001b[0m\u001b[0;34m.\u001b[0m\u001b[0mname\u001b[0m\u001b[0;34m,\u001b[0m \u001b[0;34m'rb'\u001b[0m\u001b[0;34m)\u001b[0m \u001b[0;32mas\u001b[0m \u001b[0mf\u001b[0m\u001b[0;34m:\u001b[0m\u001b[0;34m\u001b[0m\u001b[0m\n\u001b[0;32m--> 477\u001b[0;31m                 \u001b[0mmagic\u001b[0m \u001b[0;34m=\u001b[0m \u001b[0mf\u001b[0m\u001b[0;34m.\u001b[0m\u001b[0mread\u001b[0m\u001b[0;34m(\u001b[0m\u001b[0;36m4\u001b[0m\u001b[0;34m)\u001b[0m\u001b[0;34m\u001b[0m\u001b[0m\n\u001b[0m\u001b[1;32m    478\u001b[0m         \u001b[0;32melse\u001b[0m\u001b[0;34m:\u001b[0m\u001b[0;34m\u001b[0m\u001b[0m\n\u001b[1;32m    479\u001b[0m             \u001b[0mmagic\u001b[0m \u001b[0;34m=\u001b[0m \u001b[0mb\u001b[0m\u001b[0;34m(\u001b[0m\u001b[0;34m''\u001b[0m\u001b[0;34m)\u001b[0m\u001b[0;34m\u001b[0m\u001b[0m\n",
      "\u001b[0;31mKeyboardInterrupt\u001b[0m: "
     ]
    },
    {
     "name": "stderr",
     "output_type": "stream",
     "text": [
      "  File \"/global/common/edison/contrib/desi/code/desiconda/20170613-1.1.4-spectro_conda/lib/python3.5/multiprocessing/queues.py\", line 342, in get\n",
      "    with self._rlock:\n",
      "  File \"/global/common/edison/contrib/desi/code/desiconda/20170613-1.1.4-spectro_conda/lib/python3.5/multiprocessing/queues.py\", line 342, in get\n",
      "    with self._rlock:\n",
      "  File \"/global/common/edison/contrib/desi/code/desiconda/20170613-1.1.4-spectro_conda/lib/python3.5/multiprocessing/queues.py\", line 342, in get\n",
      "    with self._rlock:\n",
      "  File \"/global/common/edison/contrib/desi/code/desiconda/20170613-1.1.4-spectro_conda/lib/python3.5/multiprocessing/queues.py\", line 342, in get\n",
      "    with self._rlock:\n",
      "  File \"/global/common/edison/contrib/desi/code/desiconda/20170613-1.1.4-spectro_conda/lib/python3.5/multiprocessing/queues.py\", line 342, in get\n",
      "    with self._rlock:\n",
      "  File \"/global/common/edison/contrib/desi/code/desiconda/20170613-1.1.4-spectro_conda/lib/python3.5/multiprocessing/queues.py\", line 342, in get\n",
      "    with self._rlock:\n",
      "  File \"/global/common/edison/contrib/desi/code/desiconda/20170613-1.1.4-spectro_conda/lib/python3.5/multiprocessing/queues.py\", line 342, in get\n",
      "    with self._rlock:\n",
      "  File \"/global/common/edison/contrib/desi/code/desiconda/20170613-1.1.4-spectro_conda/lib/python3.5/multiprocessing/queues.py\", line 342, in get\n",
      "    with self._rlock:\n",
      "  File \"/global/common/edison/contrib/desi/code/desiconda/20170613-1.1.4-spectro_conda/lib/python3.5/multiprocessing/queues.py\", line 342, in get\n",
      "    with self._rlock:\n",
      "  File \"/global/common/edison/contrib/desi/code/desiconda/20170613-1.1.4-spectro_conda/lib/python3.5/multiprocessing/queues.py\", line 342, in get\n",
      "    with self._rlock:\n",
      "  File \"/global/common/edison/contrib/desi/code/desiconda/20170613-1.1.4-spectro_conda/lib/python3.5/multiprocessing/synchronize.py\", line 96, in __enter__\n",
      "    return self._semlock.__enter__()\n",
      "  File \"/global/common/edison/contrib/desi/code/desiconda/20170613-1.1.4-spectro_conda/lib/python3.5/multiprocessing/queues.py\", line 342, in get\n",
      "    with self._rlock:\n",
      "  File \"/global/common/edison/contrib/desi/code/desiconda/20170613-1.1.4-spectro_conda/lib/python3.5/multiprocessing/queues.py\", line 342, in get\n",
      "    with self._rlock:\n",
      "  File \"/global/common/edison/contrib/desi/code/desiconda/20170613-1.1.4-spectro_conda/lib/python3.5/multiprocessing/queues.py\", line 342, in get\n",
      "    with self._rlock:\n",
      "  File \"/global/common/edison/contrib/desi/code/desiconda/20170613-1.1.4-spectro_conda/lib/python3.5/multiprocessing/queues.py\", line 342, in get\n",
      "    with self._rlock:\n",
      "  File \"/global/common/edison/contrib/desi/code/desiconda/20170613-1.1.4-spectro_conda/lib/python3.5/multiprocessing/queues.py\", line 342, in get\n",
      "    with self._rlock:\n",
      "  File \"/global/common/edison/contrib/desi/code/desiconda/20170613-1.1.4-spectro_conda/lib/python3.5/multiprocessing/queues.py\", line 342, in get\n",
      "    with self._rlock:\n",
      "  File \"/global/common/edison/contrib/desi/code/desiconda/20170613-1.1.4-spectro_conda/lib/python3.5/multiprocessing/queues.py\", line 342, in get\n",
      "    with self._rlock:\n",
      "  File \"/global/common/edison/contrib/desi/code/desiconda/20170613-1.1.4-spectro_conda/lib/python3.5/multiprocessing/queues.py\", line 342, in get\n",
      "    with self._rlock:\n",
      "  File \"/global/common/edison/contrib/desi/code/desiconda/20170613-1.1.4-spectro_conda/lib/python3.5/multiprocessing/synchronize.py\", line 96, in __enter__\n",
      "    return self._semlock.__enter__()\n",
      "  File \"/global/common/edison/contrib/desi/code/desiconda/20170613-1.1.4-spectro_conda/lib/python3.5/multiprocessing/queues.py\", line 342, in get\n",
      "    with self._rlock:\n",
      "  File \"/global/common/edison/contrib/desi/code/desiconda/20170613-1.1.4-spectro_conda/lib/python3.5/multiprocessing/queues.py\", line 342, in get\n",
      "    with self._rlock:\n",
      "  File \"/global/common/edison/contrib/desi/code/desiconda/20170613-1.1.4-spectro_conda/lib/python3.5/multiprocessing/synchronize.py\", line 96, in __enter__\n",
      "    return self._semlock.__enter__()\n",
      "  File \"/global/common/edison/contrib/desi/code/desiconda/20170613-1.1.4-spectro_conda/lib/python3.5/multiprocessing/synchronize.py\", line 96, in __enter__\n",
      "    return self._semlock.__enter__()\n",
      "  File \"/global/common/edison/contrib/desi/code/desiconda/20170613-1.1.4-spectro_conda/lib/python3.5/multiprocessing/synchronize.py\", line 96, in __enter__\n",
      "    return self._semlock.__enter__()\n",
      "  File \"/global/common/edison/contrib/desi/code/desiconda/20170613-1.1.4-spectro_conda/lib/python3.5/multiprocessing/synchronize.py\", line 96, in __enter__\n",
      "    return self._semlock.__enter__()\n",
      "  File \"/global/common/edison/contrib/desi/code/desiconda/20170613-1.1.4-spectro_conda/lib/python3.5/multiprocessing/synchronize.py\", line 96, in __enter__\n",
      "    return self._semlock.__enter__()\n",
      "  File \"/global/common/edison/contrib/desi/code/desiconda/20170613-1.1.4-spectro_conda/lib/python3.5/multiprocessing/queues.py\", line 342, in get\n",
      "    with self._rlock:\n",
      "  File \"/global/common/edison/contrib/desi/code/desiconda/20170613-1.1.4-spectro_conda/lib/python3.5/multiprocessing/synchronize.py\", line 96, in __enter__\n",
      "    return self._semlock.__enter__()\n",
      "  File \"/global/common/edison/contrib/desi/code/desiconda/20170613-1.1.4-spectro_conda/lib/python3.5/multiprocessing/queues.py\", line 342, in get\n",
      "    with self._rlock:\n",
      "  File \"/global/common/edison/contrib/desi/code/desiconda/20170613-1.1.4-spectro_conda/lib/python3.5/multiprocessing/queues.py\", line 342, in get\n",
      "    with self._rlock:\n",
      "  File \"/global/common/edison/contrib/desi/code/desiconda/20170613-1.1.4-spectro_conda/lib/python3.5/multiprocessing/queues.py\", line 342, in get\n",
      "    with self._rlock:\n",
      "  File \"/global/common/edison/contrib/desi/code/desiconda/20170613-1.1.4-spectro_conda/lib/python3.5/multiprocessing/synchronize.py\", line 96, in __enter__\n",
      "    return self._semlock.__enter__()\n",
      "  File \"/global/common/edison/contrib/desi/code/desiconda/20170613-1.1.4-spectro_conda/lib/python3.5/multiprocessing/synchronize.py\", line 96, in __enter__\n",
      "    return self._semlock.__enter__()\n",
      "  File \"/global/common/edison/contrib/desi/code/desiconda/20170613-1.1.4-spectro_conda/lib/python3.5/multiprocessing/synchronize.py\", line 96, in __enter__\n",
      "    return self._semlock.__enter__()\n",
      "  File \"/global/common/edison/contrib/desi/code/desiconda/20170613-1.1.4-spectro_conda/lib/python3.5/multiprocessing/synchronize.py\", line 96, in __enter__\n",
      "    return self._semlock.__enter__()\n",
      "  File \"/global/common/edison/contrib/desi/code/desiconda/20170613-1.1.4-spectro_conda/lib/python3.5/multiprocessing/synchronize.py\", line 96, in __enter__\n",
      "    return self._semlock.__enter__()\n",
      "  File \"/global/common/edison/contrib/desi/code/desiconda/20170613-1.1.4-spectro_conda/lib/python3.5/multiprocessing/synchronize.py\", line 96, in __enter__\n",
      "    return self._semlock.__enter__()\n",
      "  File \"/global/common/edison/contrib/desi/code/desiconda/20170613-1.1.4-spectro_conda/lib/python3.5/multiprocessing/queues.py\", line 342, in get\n",
      "    with self._rlock:\n",
      "  File \"/global/common/edison/contrib/desi/code/desiconda/20170613-1.1.4-spectro_conda/lib/python3.5/multiprocessing/synchronize.py\", line 96, in __enter__\n",
      "    return self._semlock.__enter__()\n",
      "  File \"/global/common/edison/contrib/desi/code/desiconda/20170613-1.1.4-spectro_conda/lib/python3.5/multiprocessing/synchronize.py\", line 96, in __enter__\n",
      "    return self._semlock.__enter__()\n",
      "  File \"/global/common/edison/contrib/desi/code/desiconda/20170613-1.1.4-spectro_conda/lib/python3.5/multiprocessing/synchronize.py\", line 96, in __enter__\n",
      "    return self._semlock.__enter__()\n",
      "  File \"/global/common/edison/contrib/desi/code/desiconda/20170613-1.1.4-spectro_conda/lib/python3.5/multiprocessing/synchronize.py\", line 96, in __enter__\n",
      "    return self._semlock.__enter__()\n",
      "  File \"/global/common/edison/contrib/desi/code/desiconda/20170613-1.1.4-spectro_conda/lib/python3.5/multiprocessing/synchronize.py\", line 96, in __enter__\n",
      "    return self._semlock.__enter__()\n",
      "  File \"/global/common/edison/contrib/desi/code/desiconda/20170613-1.1.4-spectro_conda/lib/python3.5/multiprocessing/synchronize.py\", line 96, in __enter__\n",
      "    return self._semlock.__enter__()\n",
      "  File \"/global/common/edison/contrib/desi/code/desiconda/20170613-1.1.4-spectro_conda/lib/python3.5/multiprocessing/synchronize.py\", line 96, in __enter__\n",
      "    return self._semlock.__enter__()\n"
     ]
    },
    {
     "name": "stderr",
     "output_type": "stream",
     "text": [
      "  File \"/global/common/edison/contrib/desi/code/desiconda/20170613-1.1.4-spectro_conda/lib/python3.5/multiprocessing/synchronize.py\", line 96, in __enter__\n",
      "    return self._semlock.__enter__()\n",
      "  File \"/global/common/edison/contrib/desi/code/desiconda/20170613-1.1.4-spectro_conda/lib/python3.5/multiprocessing/synchronize.py\", line 96, in __enter__\n",
      "    return self._semlock.__enter__()\n",
      "  File \"/global/common/edison/contrib/desi/code/desiconda/20170613-1.1.4-spectro_conda/lib/python3.5/multiprocessing/synchronize.py\", line 96, in __enter__\n",
      "    return self._semlock.__enter__()\n",
      "  File \"/global/common/edison/contrib/desi/code/desiconda/20170613-1.1.4-spectro_conda/lib/python3.5/multiprocessing/synchronize.py\", line 96, in __enter__\n",
      "    return self._semlock.__enter__()\n",
      "  File \"/global/common/edison/contrib/desi/code/desiconda/20170613-1.1.4-spectro_conda/lib/python3.5/multiprocessing/synchronize.py\", line 96, in __enter__\n",
      "    return self._semlock.__enter__()\n",
      "  File \"/global/common/edison/contrib/desi/code/desiconda/20170613-1.1.4-spectro_conda/lib/python3.5/multiprocessing/synchronize.py\", line 96, in __enter__\n",
      "    return self._semlock.__enter__()\n",
      "KeyboardInterrupt\n",
      "  File \"/global/common/edison/contrib/desi/code/desiconda/20170613-1.1.4-spectro_conda/lib/python3.5/multiprocessing/synchronize.py\", line 96, in __enter__\n",
      "    return self._semlock.__enter__()\n",
      "  File \"/global/common/edison/contrib/desi/code/desiconda/20170613-1.1.4-spectro_conda/lib/python3.5/multiprocessing/synchronize.py\", line 96, in __enter__\n",
      "    return self._semlock.__enter__()\n",
      "  File \"/global/common/edison/contrib/desi/code/desiconda/20170613-1.1.4-spectro_conda/lib/python3.5/multiprocessing/synchronize.py\", line 96, in __enter__\n",
      "    return self._semlock.__enter__()\n",
      "  File \"/global/common/edison/contrib/desi/code/desiconda/20170613-1.1.4-spectro_conda/lib/python3.5/multiprocessing/synchronize.py\", line 96, in __enter__\n",
      "    return self._semlock.__enter__()\n",
      "  File \"/global/common/edison/contrib/desi/code/desiconda/20170613-1.1.4-spectro_conda/lib/python3.5/multiprocessing/synchronize.py\", line 96, in __enter__\n",
      "    return self._semlock.__enter__()\n",
      "  File \"/global/common/edison/contrib/desi/code/desiconda/20170613-1.1.4-spectro_conda/lib/python3.5/multiprocessing/synchronize.py\", line 96, in __enter__\n",
      "    return self._semlock.__enter__()\n",
      "KeyboardInterrupt\n",
      "  File \"/global/common/edison/contrib/desi/code/desiconda/20170613-1.1.4-spectro_conda/lib/python3.5/multiprocessing/synchronize.py\", line 96, in __enter__\n",
      "    return self._semlock.__enter__()\n",
      "  File \"/global/common/edison/contrib/desi/code/desiconda/20170613-1.1.4-spectro_conda/lib/python3.5/multiprocessing/synchronize.py\", line 96, in __enter__\n",
      "    return self._semlock.__enter__()\n",
      "  File \"/global/common/edison/contrib/desi/code/desiconda/20170613-1.1.4-spectro_conda/lib/python3.5/multiprocessing/synchronize.py\", line 96, in __enter__\n",
      "    return self._semlock.__enter__()\n",
      "KeyboardInterrupt\n",
      "KeyboardInterrupt\n",
      "KeyboardInterrupt\n",
      "KeyboardInterrupt\n",
      "KeyboardInterrupt\n",
      "KeyboardInterrupt\n",
      "  File \"/global/common/edison/contrib/desi/code/desiconda/20170613-1.1.4-spectro_conda/lib/python3.5/multiprocessing/synchronize.py\", line 96, in __enter__\n",
      "    return self._semlock.__enter__()\n",
      "  File \"/global/common/edison/contrib/desi/code/desiconda/20170613-1.1.4-spectro_conda/lib/python3.5/multiprocessing/synchronize.py\", line 96, in __enter__\n",
      "    return self._semlock.__enter__()\n",
      "KeyboardInterrupt\n",
      "  File \"/global/common/edison/contrib/desi/code/desiconda/20170613-1.1.4-spectro_conda/lib/python3.5/multiprocessing/synchronize.py\", line 96, in __enter__\n",
      "    return self._semlock.__enter__()\n",
      "KeyboardInterrupt\n",
      "  File \"/global/common/edison/contrib/desi/code/desiconda/20170613-1.1.4-spectro_conda/lib/python3.5/multiprocessing/synchronize.py\", line 96, in __enter__\n",
      "    return self._semlock.__enter__()\n",
      "KeyboardInterrupt\n",
      "KeyboardInterrupt\n",
      "KeyboardInterrupt\n",
      "  File \"/global/common/edison/contrib/desi/code/desiconda/20170613-1.1.4-spectro_conda/lib/python3.5/multiprocessing/synchronize.py\", line 96, in __enter__\n",
      "    return self._semlock.__enter__()\n",
      "KeyboardInterrupt\n",
      "KeyboardInterrupt\n",
      "KeyboardInterrupt\n",
      "KeyboardInterrupt\n",
      "KeyboardInterrupt\n",
      "KeyboardInterrupt\n",
      "KeyboardInterrupt\n",
      "KeyboardInterrupt\n",
      "KeyboardInterrupt\n",
      "KeyboardInterrupt\n",
      "KeyboardInterrupt\n",
      "KeyboardInterrupt\n",
      "KeyboardInterrupt\n",
      "KeyboardInterrupt\n",
      "KeyboardInterrupt\n",
      "KeyboardInterrupt\n",
      "KeyboardInterrupt\n",
      "KeyboardInterrupt\n",
      "KeyboardInterrupt\n",
      "KeyboardInterrupt\n",
      "KeyboardInterrupt\n",
      "KeyboardInterrupt\n",
      "KeyboardInterrupt\n",
      "KeyboardInterrupt\n",
      "KeyboardInterrupt\n",
      "KeyboardInterrupt\n",
      "KeyboardInterrupt\n",
      "KeyboardInterrupt\n"
     ]
    }
   ],
   "source": [
    "nside = 64\n",
    "args = group_spectra.parse(['--hpxnside', '{}'.format(nside)])\n",
    "group_spectra.main(args)"
   ]
  },
  {
   "cell_type": "markdown",
   "metadata": {},
   "source": [
    "## Looking at the fibermap and spectral metadata ##\n",
    "\n",
    "First, let's see what got written to the raw data directory as a result of that last command."
   ]
  },
  {
   "cell_type": "code",
   "execution_count": 101,
   "metadata": {},
   "outputs": [],
   "source": [
    "#rawdata_dir = desispec.io.rawdata_root()\n",
    "#!find $rawdata_dir | sort"
   ]
  },
  {
   "cell_type": "markdown",
   "metadata": {},
   "source": [
    "read the *fibermap* and *simspec* files from on-disk."
   ]
  },
  {
   "cell_type": "code",
   "execution_count": 102,
   "metadata": {
    "collapsed": true
   },
   "outputs": [],
   "source": [
    "#fiberfile = desispec.io.findfile('fibermap', night=night, expid=expid)\n",
    "#simspecfile = desisim.io.findfile('simspec', night=night, expid=expid)"
   ]
  },
  {
   "cell_type": "code",
   "execution_count": 115,
   "metadata": {},
   "outputs": [
    {
     "name": "stdout",
     "output_type": "stream",
     "text": [
      "Reading fibermap file /global/project/projectdirs/desi/spectro/sim/bgs-specsim-paper-kr/20170701/fibermap-00000009.fits\n",
      "Reading simspec file /global/project/projectdirs/desi/spectro/sim/bgs-specsim-paper-kr/20170701/simspec-00000009.fits.\n"
     ]
    }
   ],
   "source": [
    "print('Reading fibermap file {}'.format(fiberfile))\n",
    "hdu = fits.open(fiberfile)\n",
    "#hdu.info()\n",
    "fibermap = Table(hdu['FIBERMAP'].data)\n",
    "hdu.close()\n",
    "print('Reading simspec file {}.'.format(simspecfile))\n",
    "hdu = fits.open(simspecfile)\n",
    "#hdu.info()\n",
    "meta = Table(hdu['METADATA'].data)\n",
    "hdu.close()\n",
    "#print(meta.colnames)\n"
   ]
  },
  {
   "cell_type": "markdown",
   "metadata": {},
   "source": [
    "#### Make a simple plot\n",
    "\n",
    "Here's a fun simple plot of the redshift histogram distributions.  Now you try!"
   ]
  },
  {
   "cell_type": "code",
   "execution_count": 116,
   "metadata": {
    "scrolled": true
   },
   "outputs": [
    {
     "data": {
      "image/png": "[encoded data removed]",
      "text/plain": [
       "<matplotlib.figure.Figure at 0x2aab73d680f0>"
      ]
     },
     "metadata": {},
     "output_type": "display_data"
    }
   ],
   "source": [
    "allobjtype = meta['OBJTYPE']\n",
    "redlim = (-0.2, 1.1*meta['REDSHIFT'].max())\n",
    "fig, ax = plt.subplots()\n",
    "for objtype in sorted(set(allobjtype)):\n",
    "    indx = objtype == allobjtype\n",
    "    hh = ax.hist(meta['REDSHIFT'][indx], bins=nspec//3, \n",
    "                 label=objtype, alpha=0.5, range=redlim)\n",
    "ax.set_xlabel('Redshift')\n",
    "ax.set_ylabel('Number of Simulated Spectra')\n",
    "ax.legend(loc='upper right', ncol=3)\n",
    "ax.margins(0.2)\n",
    "ax.set_xlim(redlim)\n",
    "plt.show()"
   ]
  },
  {
   "cell_type": "markdown",
   "metadata": {},
   "source": [
    "# Looking at the `quickgen` Simulated Spectra #"
   ]
  },
  {
   "cell_type": "markdown",
   "metadata": {},
   "source": [
    "#### Inspect the output cframe files ####\n",
    "\n",
    "Let's briefly look at one of the `cframe` files for the blue camera using `desispec.io.frame.read_frame`, which returns a `Frame` class with all the attributes you might want."
   ]
  },
  {
   "cell_type": "code",
   "execution_count": 117,
   "metadata": {},
   "outputs": [
    {
     "name": "stdout",
     "output_type": "stream",
     "text": [
      "Reading /global/project/projectdirs/desi/spectro/redux/bgs-specsim-paper-kr/exposures/20170701/00000009/cframe-b0-00000009.fits\n"
     ]
    }
   ],
   "source": [
    "cframefile = desispec.io.findfile('cframe', night=night, expid=expid, camera='b0')\n",
    "print('Reading {}'.format(cframefile))\n",
    "cframe = desispec.io.frame.read_frame(cframefile)"
   ]
  },
  {
   "cell_type": "code",
   "execution_count": 106,
   "metadata": {},
   "outputs": [],
   "source": [
    "#dir(cframe)"
   ]
  },
  {
   "cell_type": "markdown",
   "metadata": {},
   "source": [
    "Let's make a quick plot of the zeroth spectrum."
   ]
  },
  {
   "cell_type": "code",
   "execution_count": 118,
   "metadata": {},
   "outputs": [
    {
     "name": "stdout",
     "output_type": "stream",
     "text": [
      "(4760,) (200, 4760)\n"
     ]
    }
   ],
   "source": [
    "print(cframe.wave.shape, cframe.flux.shape)"
   ]
  },
  {
   "cell_type": "code",
   "execution_count": 119,
   "metadata": {},
   "outputs": [
    {
     "data": {
      "image/png": "[encoded data removed]",
      "text/plain": [
       "<matplotlib.figure.Figure at 0x2aab7fb8e828>"
      ]
     },
     "metadata": {},
     "output_type": "display_data"
    }
   ],
   "source": [
    "fig, ax = plt.subplots()\n",
    "ax.errorbar(cframe.wave, cframe.flux[0, :], 1/np.sqrt(cframe.ivar[0, :]))\n",
    "ax.set_xlabel('Wavelength (A)')\n",
    "ax.set_ylabel('Flux ($10^{-17}$ erg/s/cm$^2$)')\n",
    "plt.show()"
   ]
  },
  {
   "cell_type": "markdown",
   "metadata": {},
   "source": [
    "## Looking at regrouped spectra ##\n"
   ]
  },
  {
   "cell_type": "markdown",
   "metadata": {},
   "source": [
    "#### Inspect the output (combined and regrouped) spectra ####\n",
    "\n",
    "So what did we end up with in the redux output directory?\n",
    "* `exposures/{night}/{expid}/`: individual spectrograph camera spectra (\"frames\")\n",
    "  grouped by night/expid\n",
    "* `spectra-64/`: spectra grouped by healpix location on the sky"
   ]
  },
  {
   "cell_type": "code",
   "execution_count": 120,
   "metadata": {},
   "outputs": [
    {
     "name": "stdout",
     "output_type": "stream",
     "text": [
      "/global/project/projectdirs/desi/spectro/redux/bgs-specsim-paper-kr\r\n",
      "/global/project/projectdirs/desi/spectro/redux/bgs-specsim-paper-kr/exposures\r\n",
      "/global/project/projectdirs/desi/spectro/redux/bgs-specsim-paper-kr/exposures/20170701\r\n",
      "/global/project/projectdirs/desi/spectro/redux/bgs-specsim-paper-kr/exposures/20170701/00000000\r\n",
      "/global/project/projectdirs/desi/spectro/redux/bgs-specsim-paper-kr/exposures/20170701/00000000/calib-b0-00000000.fits\r\n",
      "/global/project/projectdirs/desi/spectro/redux/bgs-specsim-paper-kr/exposures/20170701/00000000/calib-r0-00000000.fits\r\n",
      "/global/project/projectdirs/desi/spectro/redux/bgs-specsim-paper-kr/exposures/20170701/00000000/calib-z0-00000000.fits\r\n",
      "/global/project/projectdirs/desi/spectro/redux/bgs-specsim-paper-kr/exposures/20170701/00000000/cframe-b0-00000000.fits\r\n",
      "/global/project/projectdirs/desi/spectro/redux/bgs-specsim-paper-kr/exposures/20170701/00000000/cframe-r0-00000000.fits\r\n",
      "/global/project/projectdirs/desi/spectro/redux/bgs-specsim-paper-kr/exposures/20170701/00000000/cframe-z0-00000000.fits\r\n",
      "/global/project/projectdirs/desi/spectro/redux/bgs-specsim-paper-kr/exposures/20170701/00000000/frame-b0-00000000.fits\r\n",
      "/global/project/projectdirs/desi/spectro/redux/bgs-specsim-paper-kr/exposures/20170701/00000000/frame-r0-00000000.fits\r\n",
      "/global/project/projectdirs/desi/spectro/redux/bgs-specsim-paper-kr/exposures/20170701/00000000/frame-z0-00000000.fits\r\n",
      "/global/project/projectdirs/desi/spectro/redux/bgs-specsim-paper-kr/exposures/20170701/00000000/sky-b0-00000000.fits\r\n",
      "/global/project/projectdirs/desi/spectro/redux/bgs-specsim-paper-kr/exposures/20170701/00000000/sky-r0-00000000.fits\r\n",
      "/global/project/projectdirs/desi/spectro/redux/bgs-specsim-paper-kr/exposures/20170701/00000000/sky-z0-00000000.fits\r\n",
      "/global/project/projectdirs/desi/spectro/redux/bgs-specsim-paper-kr/exposures/20170701/00000001\r\n",
      "/global/project/projectdirs/desi/spectro/redux/bgs-specsim-paper-kr/exposures/20170701/00000001/calib-b0-00000001.fits\r\n",
      "/global/project/projectdirs/desi/spectro/redux/bgs-specsim-paper-kr/exposures/20170701/00000001/calib-r0-00000001.fits\r\n",
      "/global/project/projectdirs/desi/spectro/redux/bgs-specsim-paper-kr/exposures/20170701/00000001/calib-z0-00000001.fits\r\n",
      "/global/project/projectdirs/desi/spectro/redux/bgs-specsim-paper-kr/exposures/20170701/00000001/cframe-b0-00000001.fits\r\n",
      "/global/project/projectdirs/desi/spectro/redux/bgs-specsim-paper-kr/exposures/20170701/00000001/cframe-r0-00000001.fits\r\n",
      "/global/project/projectdirs/desi/spectro/redux/bgs-specsim-paper-kr/exposures/20170701/00000001/cframe-z0-00000001.fits\r\n",
      "/global/project/projectdirs/desi/spectro/redux/bgs-specsim-paper-kr/exposures/20170701/00000001/frame-b0-00000001.fits\r\n",
      "/global/project/projectdirs/desi/spectro/redux/bgs-specsim-paper-kr/exposures/20170701/00000001/frame-r0-00000001.fits\r\n",
      "/global/project/projectdirs/desi/spectro/redux/bgs-specsim-paper-kr/exposures/20170701/00000001/frame-z0-00000001.fits\r\n",
      "/global/project/projectdirs/desi/spectro/redux/bgs-specsim-paper-kr/exposures/20170701/00000001/sky-b0-00000001.fits\r\n",
      "/global/project/projectdirs/desi/spectro/redux/bgs-specsim-paper-kr/exposures/20170701/00000001/sky-r0-00000001.fits\r\n",
      "/global/project/projectdirs/desi/spectro/redux/bgs-specsim-paper-kr/exposures/20170701/00000001/sky-z0-00000001.fits\r\n",
      "/global/project/projectdirs/desi/spectro/redux/bgs-specsim-paper-kr/exposures/20170701/00000002\r\n",
      "/global/project/projectdirs/desi/spectro/redux/bgs-specsim-paper-kr/exposures/20170701/00000002/calib-b0-00000002.fits\r\n",
      "/global/project/projectdirs/desi/spectro/redux/bgs-specsim-paper-kr/exposures/20170701/00000002/calib-r0-00000002.fits\r\n",
      "/global/project/projectdirs/desi/spectro/redux/bgs-specsim-paper-kr/exposures/20170701/00000002/calib-z0-00000002.fits\r\n",
      "/global/project/projectdirs/desi/spectro/redux/bgs-specsim-paper-kr/exposures/20170701/00000002/cframe-b0-00000002.fits\r\n",
      "/global/project/projectdirs/desi/spectro/redux/bgs-specsim-paper-kr/exposures/20170701/00000002/cframe-r0-00000002.fits\r\n",
      "/global/project/projectdirs/desi/spectro/redux/bgs-specsim-paper-kr/exposures/20170701/00000002/cframe-z0-00000002.fits\r\n",
      "/global/project/projectdirs/desi/spectro/redux/bgs-specsim-paper-kr/exposures/20170701/00000002/frame-b0-00000002.fits\r\n",
      "/global/project/projectdirs/desi/spectro/redux/bgs-specsim-paper-kr/exposures/20170701/00000002/frame-r0-00000002.fits\r\n",
      "/global/project/projectdirs/desi/spectro/redux/bgs-specsim-paper-kr/exposures/20170701/00000002/frame-z0-00000002.fits\r\n",
      "/global/project/projectdirs/desi/spectro/redux/bgs-specsim-paper-kr/exposures/20170701/00000002/sky-b0-00000002.fits\r\n",
      "/global/project/projectdirs/desi/spectro/redux/bgs-specsim-paper-kr/exposures/20170701/00000002/sky-r0-00000002.fits\r\n",
      "/global/project/projectdirs/desi/spectro/redux/bgs-specsim-paper-kr/exposures/20170701/00000002/sky-z0-00000002.fits\r\n",
      "/global/project/projectdirs/desi/spectro/redux/bgs-specsim-paper-kr/exposures/20170701/00000003\r\n",
      "/global/project/projectdirs/desi/spectro/redux/bgs-specsim-paper-kr/exposures/20170701/00000003/calib-b0-00000003.fits\r\n",
      "/global/project/projectdirs/desi/spectro/redux/bgs-specsim-paper-kr/exposures/20170701/00000003/calib-r0-00000003.fits\r\n",
      "/global/project/projectdirs/desi/spectro/redux/bgs-specsim-paper-kr/exposures/20170701/00000003/calib-z0-00000003.fits\r\n",
      "/global/project/projectdirs/desi/spectro/redux/bgs-specsim-paper-kr/exposures/20170701/00000003/cframe-b0-00000003.fits\r\n",
      "/global/project/projectdirs/desi/spectro/redux/bgs-specsim-paper-kr/exposures/20170701/00000003/cframe-r0-00000003.fits\r\n",
      "/global/project/projectdirs/desi/spectro/redux/bgs-specsim-paper-kr/exposures/20170701/00000003/cframe-z0-00000003.fits\r\n",
      "/global/project/projectdirs/desi/spectro/redux/bgs-specsim-paper-kr/exposures/20170701/00000003/frame-b0-00000003.fits\r\n",
      "/global/project/projectdirs/desi/spectro/redux/bgs-specsim-paper-kr/exposures/20170701/00000003/frame-r0-00000003.fits\r\n",
      "/global/project/projectdirs/desi/spectro/redux/bgs-specsim-paper-kr/exposures/20170701/00000003/frame-z0-00000003.fits\r\n",
      "/global/project/projectdirs/desi/spectro/redux/bgs-specsim-paper-kr/exposures/20170701/00000003/sky-b0-00000003.fits\r\n",
      "/global/project/projectdirs/desi/spectro/redux/bgs-specsim-paper-kr/exposures/20170701/00000003/sky-r0-00000003.fits\r\n",
      "/global/project/projectdirs/desi/spectro/redux/bgs-specsim-paper-kr/exposures/20170701/00000003/sky-z0-00000003.fits\r\n",
      "/global/project/projectdirs/desi/spectro/redux/bgs-specsim-paper-kr/exposures/20170701/00000004\r\n",
      "/global/project/projectdirs/desi/spectro/redux/bgs-specsim-paper-kr/exposures/20170701/00000004/calib-b0-00000004.fits\r\n",
      "/global/project/projectdirs/desi/spectro/redux/bgs-specsim-paper-kr/exposures/20170701/00000004/calib-r0-00000004.fits\r\n",
      "/global/project/projectdirs/desi/spectro/redux/bgs-specsim-paper-kr/exposures/20170701/00000004/calib-z0-00000004.fits\r\n",
      "/global/project/projectdirs/desi/spectro/redux/bgs-specsim-paper-kr/exposures/20170701/00000004/cframe-b0-00000004.fits\r\n",
      "/global/project/projectdirs/desi/spectro/redux/bgs-specsim-paper-kr/exposures/20170701/00000004/cframe-r0-00000004.fits\r\n",
      "/global/project/projectdirs/desi/spectro/redux/bgs-specsim-paper-kr/exposures/20170701/00000004/cframe-z0-00000004.fits\r\n",
      "/global/project/projectdirs/desi/spectro/redux/bgs-specsim-paper-kr/exposures/20170701/00000004/frame-b0-00000004.fits\r\n",
      "/global/project/projectdirs/desi/spectro/redux/bgs-specsim-paper-kr/exposures/20170701/00000004/frame-r0-00000004.fits\r\n",
      "/global/project/projectdirs/desi/spectro/redux/bgs-specsim-paper-kr/exposures/20170701/00000004/frame-z0-00000004.fits\r\n",
      "/global/project/projectdirs/desi/spectro/redux/bgs-specsim-paper-kr/exposures/20170701/00000004/sky-b0-00000004.fits\r\n",
      "/global/project/projectdirs/desi/spectro/redux/bgs-specsim-paper-kr/exposures/20170701/00000004/sky-r0-00000004.fits\r\n",
      "/global/project/projectdirs/desi/spectro/redux/bgs-specsim-paper-kr/exposures/20170701/00000004/sky-z0-00000004.fits\r\n",
      "/global/project/projectdirs/desi/spectro/redux/bgs-specsim-paper-kr/exposures/20170701/00000005\r\n",
      "/global/project/projectdirs/desi/spectro/redux/bgs-specsim-paper-kr/exposures/20170701/00000005/calib-b0-00000005.fits\r\n",
      "/global/project/projectdirs/desi/spectro/redux/bgs-specsim-paper-kr/exposures/20170701/00000005/calib-r0-00000005.fits\r\n",
      "/global/project/projectdirs/desi/spectro/redux/bgs-specsim-paper-kr/exposures/20170701/00000005/calib-z0-00000005.fits\r\n",
      "/global/project/projectdirs/desi/spectro/redux/bgs-specsim-paper-kr/exposures/20170701/00000005/cframe-b0-00000005.fits\r\n",
      "/global/project/projectdirs/desi/spectro/redux/bgs-specsim-paper-kr/exposures/20170701/00000005/cframe-r0-00000005.fits\r\n",
      "/global/project/projectdirs/desi/spectro/redux/bgs-specsim-paper-kr/exposures/20170701/00000005/cframe-z0-00000005.fits\r\n",
      "/global/project/projectdirs/desi/spectro/redux/bgs-specsim-paper-kr/exposures/20170701/00000005/frame-b0-00000005.fits\r\n",
      "/global/project/projectdirs/desi/spectro/redux/bgs-specsim-paper-kr/exposures/20170701/00000005/frame-r0-00000005.fits\r\n",
      "/global/project/projectdirs/desi/spectro/redux/bgs-specsim-paper-kr/exposures/20170701/00000005/frame-z0-00000005.fits\r\n",
      "/global/project/projectdirs/desi/spectro/redux/bgs-specsim-paper-kr/exposures/20170701/00000005/sky-b0-00000005.fits\r\n",
      "/global/project/projectdirs/desi/spectro/redux/bgs-specsim-paper-kr/exposures/20170701/00000005/sky-r0-00000005.fits\r\n",
      "/global/project/projectdirs/desi/spectro/redux/bgs-specsim-paper-kr/exposures/20170701/00000005/sky-z0-00000005.fits\r\n",
      "/global/project/projectdirs/desi/spectro/redux/bgs-specsim-paper-kr/exposures/20170701/00000006\r\n",
      "/global/project/projectdirs/desi/spectro/redux/bgs-specsim-paper-kr/exposures/20170701/00000006/calib-b0-00000006.fits\r\n",
      "/global/project/projectdirs/desi/spectro/redux/bgs-specsim-paper-kr/exposures/20170701/00000006/calib-r0-00000006.fits\r\n",
      "/global/project/projectdirs/desi/spectro/redux/bgs-specsim-paper-kr/exposures/20170701/00000006/calib-z0-00000006.fits\r\n",
      "/global/project/projectdirs/desi/spectro/redux/bgs-specsim-paper-kr/exposures/20170701/00000006/cframe-b0-00000006.fits\r\n",
      "/global/project/projectdirs/desi/spectro/redux/bgs-specsim-paper-kr/exposures/20170701/00000006/cframe-r0-00000006.fits\r\n",
      "/global/project/projectdirs/desi/spectro/redux/bgs-specsim-paper-kr/exposures/20170701/00000006/cframe-z0-00000006.fits\r\n",
      "/global/project/projectdirs/desi/spectro/redux/bgs-specsim-paper-kr/exposures/20170701/00000006/frame-b0-00000006.fits\r\n",
      "/global/project/projectdirs/desi/spectro/redux/bgs-specsim-paper-kr/exposures/20170701/00000006/frame-r0-00000006.fits\r\n",
      "/global/project/projectdirs/desi/spectro/redux/bgs-specsim-paper-kr/exposures/20170701/00000006/frame-z0-00000006.fits\r\n",
      "/global/project/projectdirs/desi/spectro/redux/bgs-specsim-paper-kr/exposures/20170701/00000006/sky-b0-00000006.fits\r\n",
      "/global/project/projectdirs/desi/spectro/redux/bgs-specsim-paper-kr/exposures/20170701/00000006/sky-r0-00000006.fits\r\n",
      "/global/project/projectdirs/desi/spectro/redux/bgs-specsim-paper-kr/exposures/20170701/00000006/sky-z0-00000006.fits\r\n",
      "/global/project/projectdirs/desi/spectro/redux/bgs-specsim-paper-kr/exposures/20170701/00000007\r\n",
      "/global/project/projectdirs/desi/spectro/redux/bgs-specsim-paper-kr/exposures/20170701/00000007/calib-b0-00000007.fits\r\n",
      "/global/project/projectdirs/desi/spectro/redux/bgs-specsim-paper-kr/exposures/20170701/00000007/calib-r0-00000007.fits\r\n",
      "/global/project/projectdirs/desi/spectro/redux/bgs-specsim-paper-kr/exposures/20170701/00000007/calib-z0-00000007.fits\r\n",
      "/global/project/projectdirs/desi/spectro/redux/bgs-specsim-paper-kr/exposures/20170701/00000007/cframe-b0-00000007.fits\r\n",
      "/global/project/projectdirs/desi/spectro/redux/bgs-specsim-paper-kr/exposures/20170701/00000007/cframe-r0-00000007.fits\r\n",
      "/global/project/projectdirs/desi/spectro/redux/bgs-specsim-paper-kr/exposures/20170701/00000007/cframe-z0-00000007.fits\r\n",
      "/global/project/projectdirs/desi/spectro/redux/bgs-specsim-paper-kr/exposures/20170701/00000007/frame-b0-00000007.fits\r\n",
      "/global/project/projectdirs/desi/spectro/redux/bgs-specsim-paper-kr/exposures/20170701/00000007/frame-r0-00000007.fits\r\n",
      "/global/project/projectdirs/desi/spectro/redux/bgs-specsim-paper-kr/exposures/20170701/00000007/frame-z0-00000007.fits\r\n",
      "/global/project/projectdirs/desi/spectro/redux/bgs-specsim-paper-kr/exposures/20170701/00000007/sky-b0-00000007.fits\r\n",
      "/global/project/projectdirs/desi/spectro/redux/bgs-specsim-paper-kr/exposures/20170701/00000007/sky-r0-00000007.fits\r\n",
      "/global/project/projectdirs/desi/spectro/redux/bgs-specsim-paper-kr/exposures/20170701/00000007/sky-z0-00000007.fits\r\n",
      "/global/project/projectdirs/desi/spectro/redux/bgs-specsim-paper-kr/exposures/20170701/00000008\r\n",
      "/global/project/projectdirs/desi/spectro/redux/bgs-specsim-paper-kr/exposures/20170701/00000008/calib-b0-00000008.fits\r\n",
      "/global/project/projectdirs/desi/spectro/redux/bgs-specsim-paper-kr/exposures/20170701/00000008/calib-r0-00000008.fits\r\n",
      "/global/project/projectdirs/desi/spectro/redux/bgs-specsim-paper-kr/exposures/20170701/00000008/calib-z0-00000008.fits\r\n",
      "/global/project/projectdirs/desi/spectro/redux/bgs-specsim-paper-kr/exposures/20170701/00000008/cframe-b0-00000008.fits\r\n",
      "/global/project/projectdirs/desi/spectro/redux/bgs-specsim-paper-kr/exposures/20170701/00000008/cframe-r0-00000008.fits\r\n",
      "/global/project/projectdirs/desi/spectro/redux/bgs-specsim-paper-kr/exposures/20170701/00000008/cframe-z0-00000008.fits\r\n",
      "/global/project/projectdirs/desi/spectro/redux/bgs-specsim-paper-kr/exposures/20170701/00000008/frame-b0-00000008.fits\r\n",
      "/global/project/projectdirs/desi/spectro/redux/bgs-specsim-paper-kr/exposures/20170701/00000008/frame-r0-00000008.fits\r\n",
      "/global/project/projectdirs/desi/spectro/redux/bgs-specsim-paper-kr/exposures/20170701/00000008/frame-z0-00000008.fits\r\n",
      "/global/project/projectdirs/desi/spectro/redux/bgs-specsim-paper-kr/exposures/20170701/00000008/sky-b0-00000008.fits\r\n",
      "/global/project/projectdirs/desi/spectro/redux/bgs-specsim-paper-kr/exposures/20170701/00000008/sky-r0-00000008.fits\r\n",
      "/global/project/projectdirs/desi/spectro/redux/bgs-specsim-paper-kr/exposures/20170701/00000008/sky-z0-00000008.fits\r\n",
      "/global/project/projectdirs/desi/spectro/redux/bgs-specsim-paper-kr/exposures/20170701/00000009\r\n",
      "/global/project/projectdirs/desi/spectro/redux/bgs-specsim-paper-kr/exposures/20170701/00000009/calib-b0-00000009.fits\r\n",
      "/global/project/projectdirs/desi/spectro/redux/bgs-specsim-paper-kr/exposures/20170701/00000009/calib-r0-00000009.fits\r\n",
      "/global/project/projectdirs/desi/spectro/redux/bgs-specsim-paper-kr/exposures/20170701/00000009/calib-z0-00000009.fits\r\n",
      "/global/project/projectdirs/desi/spectro/redux/bgs-specsim-paper-kr/exposures/20170701/00000009/cframe-b0-00000009.fits\r\n",
      "/global/project/projectdirs/desi/spectro/redux/bgs-specsim-paper-kr/exposures/20170701/00000009/cframe-r0-00000009.fits\r\n",
      "/global/project/projectdirs/desi/spectro/redux/bgs-specsim-paper-kr/exposures/20170701/00000009/cframe-z0-00000009.fits\r\n",
      "/global/project/projectdirs/desi/spectro/redux/bgs-specsim-paper-kr/exposures/20170701/00000009/frame-b0-00000009.fits\r\n",
      "/global/project/projectdirs/desi/spectro/redux/bgs-specsim-paper-kr/exposures/20170701/00000009/frame-r0-00000009.fits\r\n",
      "/global/project/projectdirs/desi/spectro/redux/bgs-specsim-paper-kr/exposures/20170701/00000009/frame-z0-00000009.fits\r\n",
      "/global/project/projectdirs/desi/spectro/redux/bgs-specsim-paper-kr/exposures/20170701/00000009/sky-b0-00000009.fits\r\n",
      "/global/project/projectdirs/desi/spectro/redux/bgs-specsim-paper-kr/exposures/20170701/00000009/sky-r0-00000009.fits\r\n",
      "/global/project/projectdirs/desi/spectro/redux/bgs-specsim-paper-kr/exposures/20170701/00000009/sky-z0-00000009.fits\r\n",
      "/global/project/projectdirs/desi/spectro/redux/bgs-specsim-paper-kr/exposures/20170701/00000011\r\n",
      "/global/project/projectdirs/desi/spectro/redux/bgs-specsim-paper-kr/exposures/20170701/00000011/calib-b0-00000011.fits\r\n",
      "/global/project/projectdirs/desi/spectro/redux/bgs-specsim-paper-kr/exposures/20170701/00000011/calib-b1-00000011.fits\r\n",
      "/global/project/projectdirs/desi/spectro/redux/bgs-specsim-paper-kr/exposures/20170701/00000011/calib-b2-00000011.fits\r\n",
      "/global/project/projectdirs/desi/spectro/redux/bgs-specsim-paper-kr/exposures/20170701/00000011/calib-b3-00000011.fits\r\n",
      "/global/project/projectdirs/desi/spectro/redux/bgs-specsim-paper-kr/exposures/20170701/00000011/calib-b4-00000011.fits\r\n",
      "/global/project/projectdirs/desi/spectro/redux/bgs-specsim-paper-kr/exposures/20170701/00000011/calib-b5-00000011.fits\r\n",
      "/global/project/projectdirs/desi/spectro/redux/bgs-specsim-paper-kr/exposures/20170701/00000011/calib-b6-00000011.fits\r\n",
      "/global/project/projectdirs/desi/spectro/redux/bgs-specsim-paper-kr/exposures/20170701/00000011/calib-b7-00000011.fits\r\n",
      "/global/project/projectdirs/desi/spectro/redux/bgs-specsim-paper-kr/exposures/20170701/00000011/calib-b8-00000011.fits\r\n",
      "/global/project/projectdirs/desi/spectro/redux/bgs-specsim-paper-kr/exposures/20170701/00000011/calib-b9-00000011.fits\r\n",
      "/global/project/projectdirs/desi/spectro/redux/bgs-specsim-paper-kr/exposures/20170701/00000011/calib-r0-00000011.fits\r\n",
      "/global/project/projectdirs/desi/spectro/redux/bgs-specsim-paper-kr/exposures/20170701/00000011/calib-r1-00000011.fits\r\n",
      "/global/project/projectdirs/desi/spectro/redux/bgs-specsim-paper-kr/exposures/20170701/00000011/calib-r2-00000011.fits\r\n",
      "/global/project/projectdirs/desi/spectro/redux/bgs-specsim-paper-kr/exposures/20170701/00000011/calib-r3-00000011.fits\r\n",
      "/global/project/projectdirs/desi/spectro/redux/bgs-specsim-paper-kr/exposures/20170701/00000011/calib-r4-00000011.fits\r\n",
      "/global/project/projectdirs/desi/spectro/redux/bgs-specsim-paper-kr/exposures/20170701/00000011/calib-r5-00000011.fits\r\n",
      "/global/project/projectdirs/desi/spectro/redux/bgs-specsim-paper-kr/exposures/20170701/00000011/calib-r6-00000011.fits\r\n",
      "/global/project/projectdirs/desi/spectro/redux/bgs-specsim-paper-kr/exposures/20170701/00000011/calib-r7-00000011.fits\r\n",
      "/global/project/projectdirs/desi/spectro/redux/bgs-specsim-paper-kr/exposures/20170701/00000011/calib-r8-00000011.fits\r\n",
      "/global/project/projectdirs/desi/spectro/redux/bgs-specsim-paper-kr/exposures/20170701/00000011/calib-r9-00000011.fits\r\n",
      "/global/project/projectdirs/desi/spectro/redux/bgs-specsim-paper-kr/exposures/20170701/00000011/calib-z0-00000011.fits\r\n",
      "/global/project/projectdirs/desi/spectro/redux/bgs-specsim-paper-kr/exposures/20170701/00000011/calib-z1-00000011.fits\r\n",
      "/global/project/projectdirs/desi/spectro/redux/bgs-specsim-paper-kr/exposures/20170701/00000011/calib-z2-00000011.fits\r\n",
      "/global/project/projectdirs/desi/spectro/redux/bgs-specsim-paper-kr/exposures/20170701/00000011/calib-z3-00000011.fits\r\n",
      "/global/project/projectdirs/desi/spectro/redux/bgs-specsim-paper-kr/exposures/20170701/00000011/calib-z4-00000011.fits\r\n",
      "/global/project/projectdirs/desi/spectro/redux/bgs-specsim-paper-kr/exposures/20170701/00000011/calib-z5-00000011.fits\r\n",
      "/global/project/projectdirs/desi/spectro/redux/bgs-specsim-paper-kr/exposures/20170701/00000011/calib-z6-00000011.fits\r\n",
      "/global/project/projectdirs/desi/spectro/redux/bgs-specsim-paper-kr/exposures/20170701/00000011/calib-z7-00000011.fits\r\n",
      "/global/project/projectdirs/desi/spectro/redux/bgs-specsim-paper-kr/exposures/20170701/00000011/calib-z8-00000011.fits\r\n",
      "/global/project/projectdirs/desi/spectro/redux/bgs-specsim-paper-kr/exposures/20170701/00000011/calib-z9-00000011.fits\r\n",
      "/global/project/projectdirs/desi/spectro/redux/bgs-specsim-paper-kr/exposures/20170701/00000011/cframe-b0-00000011.fits\r\n",
      "/global/project/projectdirs/desi/spectro/redux/bgs-specsim-paper-kr/exposures/20170701/00000011/cframe-b1-00000011.fits\r\n",
      "/global/project/projectdirs/desi/spectro/redux/bgs-specsim-paper-kr/exposures/20170701/00000011/cframe-b2-00000011.fits\r\n",
      "/global/project/projectdirs/desi/spectro/redux/bgs-specsim-paper-kr/exposures/20170701/00000011/cframe-b3-00000011.fits\r\n",
      "/global/project/projectdirs/desi/spectro/redux/bgs-specsim-paper-kr/exposures/20170701/00000011/cframe-b4-00000011.fits\r\n",
      "/global/project/projectdirs/desi/spectro/redux/bgs-specsim-paper-kr/exposures/20170701/00000011/cframe-b5-00000011.fits\r\n",
      "/global/project/projectdirs/desi/spectro/redux/bgs-specsim-paper-kr/exposures/20170701/00000011/cframe-b6-00000011.fits\r\n",
      "/global/project/projectdirs/desi/spectro/redux/bgs-specsim-paper-kr/exposures/20170701/00000011/cframe-b7-00000011.fits\r\n",
      "/global/project/projectdirs/desi/spectro/redux/bgs-specsim-paper-kr/exposures/20170701/00000011/cframe-b8-00000011.fits\r\n",
      "/global/project/projectdirs/desi/spectro/redux/bgs-specsim-paper-kr/exposures/20170701/00000011/cframe-b9-00000011.fits\r\n",
      "/global/project/projectdirs/desi/spectro/redux/bgs-specsim-paper-kr/exposures/20170701/00000011/cframe-r0-00000011.fits\r\n",
      "/global/project/projectdirs/desi/spectro/redux/bgs-specsim-paper-kr/exposures/20170701/00000011/cframe-r1-00000011.fits\r\n",
      "/global/project/projectdirs/desi/spectro/redux/bgs-specsim-paper-kr/exposures/20170701/00000011/cframe-r2-00000011.fits\r\n",
      "/global/project/projectdirs/desi/spectro/redux/bgs-specsim-paper-kr/exposures/20170701/00000011/cframe-r3-00000011.fits\r\n",
      "/global/project/projectdirs/desi/spectro/redux/bgs-specsim-paper-kr/exposures/20170701/00000011/cframe-r4-00000011.fits\r\n",
      "/global/project/projectdirs/desi/spectro/redux/bgs-specsim-paper-kr/exposures/20170701/00000011/cframe-r5-00000011.fits\r\n",
      "/global/project/projectdirs/desi/spectro/redux/bgs-specsim-paper-kr/exposures/20170701/00000011/cframe-r6-00000011.fits\r\n",
      "/global/project/projectdirs/desi/spectro/redux/bgs-specsim-paper-kr/exposures/20170701/00000011/cframe-r7-00000011.fits\r\n",
      "/global/project/projectdirs/desi/spectro/redux/bgs-specsim-paper-kr/exposures/20170701/00000011/cframe-r8-00000011.fits\r\n",
      "/global/project/projectdirs/desi/spectro/redux/bgs-specsim-paper-kr/exposures/20170701/00000011/cframe-r9-00000011.fits\r\n",
      "/global/project/projectdirs/desi/spectro/redux/bgs-specsim-paper-kr/exposures/20170701/00000011/cframe-z0-00000011.fits\r\n",
      "/global/project/projectdirs/desi/spectro/redux/bgs-specsim-paper-kr/exposures/20170701/00000011/cframe-z1-00000011.fits\r\n",
      "/global/project/projectdirs/desi/spectro/redux/bgs-specsim-paper-kr/exposures/20170701/00000011/cframe-z2-00000011.fits\r\n",
      "/global/project/projectdirs/desi/spectro/redux/bgs-specsim-paper-kr/exposures/20170701/00000011/cframe-z3-00000011.fits\r\n",
      "/global/project/projectdirs/desi/spectro/redux/bgs-specsim-paper-kr/exposures/20170701/00000011/cframe-z4-00000011.fits\r\n",
      "/global/project/projectdirs/desi/spectro/redux/bgs-specsim-paper-kr/exposures/20170701/00000011/cframe-z5-00000011.fits\r\n",
      "/global/project/projectdirs/desi/spectro/redux/bgs-specsim-paper-kr/exposures/20170701/00000011/cframe-z6-00000011.fits\r\n",
      "/global/project/projectdirs/desi/spectro/redux/bgs-specsim-paper-kr/exposures/20170701/00000011/cframe-z7-00000011.fits\r\n",
      "/global/project/projectdirs/desi/spectro/redux/bgs-specsim-paper-kr/exposures/20170701/00000011/cframe-z8-00000011.fits\r\n",
      "/global/project/projectdirs/desi/spectro/redux/bgs-specsim-paper-kr/exposures/20170701/00000011/cframe-z9-00000011.fits\r\n",
      "/global/project/projectdirs/desi/spectro/redux/bgs-specsim-paper-kr/exposures/20170701/00000011/frame-b0-00000011.fits\r\n",
      "/global/project/projectdirs/desi/spectro/redux/bgs-specsim-paper-kr/exposures/20170701/00000011/frame-b1-00000011.fits\r\n",
      "/global/project/projectdirs/desi/spectro/redux/bgs-specsim-paper-kr/exposures/20170701/00000011/frame-b2-00000011.fits\r\n",
      "/global/project/projectdirs/desi/spectro/redux/bgs-specsim-paper-kr/exposures/20170701/00000011/frame-b3-00000011.fits\r\n",
      "/global/project/projectdirs/desi/spectro/redux/bgs-specsim-paper-kr/exposures/20170701/00000011/frame-b4-00000011.fits\r\n",
      "/global/project/projectdirs/desi/spectro/redux/bgs-specsim-paper-kr/exposures/20170701/00000011/frame-b5-00000011.fits\r\n",
      "/global/project/projectdirs/desi/spectro/redux/bgs-specsim-paper-kr/exposures/20170701/00000011/frame-b6-00000011.fits\r\n",
      "/global/project/projectdirs/desi/spectro/redux/bgs-specsim-paper-kr/exposures/20170701/00000011/frame-b7-00000011.fits\r\n",
      "/global/project/projectdirs/desi/spectro/redux/bgs-specsim-paper-kr/exposures/20170701/00000011/frame-b8-00000011.fits\r\n",
      "/global/project/projectdirs/desi/spectro/redux/bgs-specsim-paper-kr/exposures/20170701/00000011/frame-b9-00000011.fits\r\n",
      "/global/project/projectdirs/desi/spectro/redux/bgs-specsim-paper-kr/exposures/20170701/00000011/frame-r0-00000011.fits\r\n",
      "/global/project/projectdirs/desi/spectro/redux/bgs-specsim-paper-kr/exposures/20170701/00000011/frame-r1-00000011.fits\r\n",
      "/global/project/projectdirs/desi/spectro/redux/bgs-specsim-paper-kr/exposures/20170701/00000011/frame-r2-00000011.fits\r\n",
      "/global/project/projectdirs/desi/spectro/redux/bgs-specsim-paper-kr/exposures/20170701/00000011/frame-r3-00000011.fits\r\n",
      "/global/project/projectdirs/desi/spectro/redux/bgs-specsim-paper-kr/exposures/20170701/00000011/frame-r4-00000011.fits\r\n",
      "/global/project/projectdirs/desi/spectro/redux/bgs-specsim-paper-kr/exposures/20170701/00000011/frame-r5-00000011.fits\r\n",
      "/global/project/projectdirs/desi/spectro/redux/bgs-specsim-paper-kr/exposures/20170701/00000011/frame-r6-00000011.fits\r\n",
      "/global/project/projectdirs/desi/spectro/redux/bgs-specsim-paper-kr/exposures/20170701/00000011/frame-r7-00000011.fits\r\n",
      "/global/project/projectdirs/desi/spectro/redux/bgs-specsim-paper-kr/exposures/20170701/00000011/frame-r8-00000011.fits\r\n",
      "/global/project/projectdirs/desi/spectro/redux/bgs-specsim-paper-kr/exposures/20170701/00000011/frame-r9-00000011.fits\r\n",
      "/global/project/projectdirs/desi/spectro/redux/bgs-specsim-paper-kr/exposures/20170701/00000011/frame-z0-00000011.fits\r\n",
      "/global/project/projectdirs/desi/spectro/redux/bgs-specsim-paper-kr/exposures/20170701/00000011/frame-z1-00000011.fits\r\n",
      "/global/project/projectdirs/desi/spectro/redux/bgs-specsim-paper-kr/exposures/20170701/00000011/frame-z2-00000011.fits\r\n",
      "/global/project/projectdirs/desi/spectro/redux/bgs-specsim-paper-kr/exposures/20170701/00000011/frame-z3-00000011.fits\r\n",
      "/global/project/projectdirs/desi/spectro/redux/bgs-specsim-paper-kr/exposures/20170701/00000011/frame-z4-00000011.fits\r\n",
      "/global/project/projectdirs/desi/spectro/redux/bgs-specsim-paper-kr/exposures/20170701/00000011/frame-z5-00000011.fits\r\n",
      "/global/project/projectdirs/desi/spectro/redux/bgs-specsim-paper-kr/exposures/20170701/00000011/frame-z6-00000011.fits\r\n",
      "/global/project/projectdirs/desi/spectro/redux/bgs-specsim-paper-kr/exposures/20170701/00000011/frame-z7-00000011.fits\r\n",
      "/global/project/projectdirs/desi/spectro/redux/bgs-specsim-paper-kr/exposures/20170701/00000011/frame-z8-00000011.fits\r\n",
      "/global/project/projectdirs/desi/spectro/redux/bgs-specsim-paper-kr/exposures/20170701/00000011/frame-z9-00000011.fits\r\n",
      "/global/project/projectdirs/desi/spectro/redux/bgs-specsim-paper-kr/exposures/20170701/00000011/sky-b0-00000011.fits\r\n",
      "/global/project/projectdirs/desi/spectro/redux/bgs-specsim-paper-kr/exposures/20170701/00000011/sky-b1-00000011.fits\r\n",
      "/global/project/projectdirs/desi/spectro/redux/bgs-specsim-paper-kr/exposures/20170701/00000011/sky-b2-00000011.fits\r\n",
      "/global/project/projectdirs/desi/spectro/redux/bgs-specsim-paper-kr/exposures/20170701/00000011/sky-b3-00000011.fits\r\n",
      "/global/project/projectdirs/desi/spectro/redux/bgs-specsim-paper-kr/exposures/20170701/00000011/sky-b4-00000011.fits\r\n",
      "/global/project/projectdirs/desi/spectro/redux/bgs-specsim-paper-kr/exposures/20170701/00000011/sky-b5-00000011.fits\r\n",
      "/global/project/projectdirs/desi/spectro/redux/bgs-specsim-paper-kr/exposures/20170701/00000011/sky-b6-00000011.fits\r\n",
      "/global/project/projectdirs/desi/spectro/redux/bgs-specsim-paper-kr/exposures/20170701/00000011/sky-b7-00000011.fits\r\n",
      "/global/project/projectdirs/desi/spectro/redux/bgs-specsim-paper-kr/exposures/20170701/00000011/sky-b8-00000011.fits\r\n",
      "/global/project/projectdirs/desi/spectro/redux/bgs-specsim-paper-kr/exposures/20170701/00000011/sky-b9-00000011.fits\r\n",
      "/global/project/projectdirs/desi/spectro/redux/bgs-specsim-paper-kr/exposures/20170701/00000011/sky-r0-00000011.fits\r\n",
      "/global/project/projectdirs/desi/spectro/redux/bgs-specsim-paper-kr/exposures/20170701/00000011/sky-r1-00000011.fits\r\n",
      "/global/project/projectdirs/desi/spectro/redux/bgs-specsim-paper-kr/exposures/20170701/00000011/sky-r2-00000011.fits\r\n",
      "/global/project/projectdirs/desi/spectro/redux/bgs-specsim-paper-kr/exposures/20170701/00000011/sky-r3-00000011.fits\r\n",
      "/global/project/projectdirs/desi/spectro/redux/bgs-specsim-paper-kr/exposures/20170701/00000011/sky-r4-00000011.fits\r\n",
      "/global/project/projectdirs/desi/spectro/redux/bgs-specsim-paper-kr/exposures/20170701/00000011/sky-r5-00000011.fits\r\n",
      "/global/project/projectdirs/desi/spectro/redux/bgs-specsim-paper-kr/exposures/20170701/00000011/sky-r6-00000011.fits\r\n",
      "/global/project/projectdirs/desi/spectro/redux/bgs-specsim-paper-kr/exposures/20170701/00000011/sky-r7-00000011.fits\r\n",
      "/global/project/projectdirs/desi/spectro/redux/bgs-specsim-paper-kr/exposures/20170701/00000011/sky-r8-00000011.fits\r\n",
      "/global/project/projectdirs/desi/spectro/redux/bgs-specsim-paper-kr/exposures/20170701/00000011/sky-r9-00000011.fits\r\n",
      "/global/project/projectdirs/desi/spectro/redux/bgs-specsim-paper-kr/exposures/20170701/00000011/sky-z0-00000011.fits\r\n",
      "/global/project/projectdirs/desi/spectro/redux/bgs-specsim-paper-kr/exposures/20170701/00000011/sky-z1-00000011.fits\r\n",
      "/global/project/projectdirs/desi/spectro/redux/bgs-specsim-paper-kr/exposures/20170701/00000011/sky-z2-00000011.fits\r\n",
      "/global/project/projectdirs/desi/spectro/redux/bgs-specsim-paper-kr/exposures/20170701/00000011/sky-z3-00000011.fits\r\n",
      "/global/project/projectdirs/desi/spectro/redux/bgs-specsim-paper-kr/exposures/20170701/00000011/sky-z4-00000011.fits\r\n",
      "/global/project/projectdirs/desi/spectro/redux/bgs-specsim-paper-kr/exposures/20170701/00000011/sky-z5-00000011.fits\r\n",
      "/global/project/projectdirs/desi/spectro/redux/bgs-specsim-paper-kr/exposures/20170701/00000011/sky-z6-00000011.fits\r\n",
      "/global/project/projectdirs/desi/spectro/redux/bgs-specsim-paper-kr/exposures/20170701/00000011/sky-z7-00000011.fits\r\n",
      "/global/project/projectdirs/desi/spectro/redux/bgs-specsim-paper-kr/exposures/20170701/00000011/sky-z8-00000011.fits\r\n",
      "/global/project/projectdirs/desi/spectro/redux/bgs-specsim-paper-kr/exposures/20170701/00000011/sky-z9-00000011.fits\r\n",
      "/global/project/projectdirs/desi/spectro/redux/bgs-specsim-paper-kr/spectra-64\r\n",
      "/global/project/projectdirs/desi/spectro/redux/bgs-specsim-paper-kr/spectra-64/126\r\n",
      "/global/project/projectdirs/desi/spectro/redux/bgs-specsim-paper-kr/spectra-64/126/12625\r\n",
      "/global/project/projectdirs/desi/spectro/redux/bgs-specsim-paper-kr/spectra-64/126/12625/spectra-64-12625.fits\r\n",
      "/global/project/projectdirs/desi/spectro/redux/bgs-specsim-paper-kr/spectra-64/126/12626\r\n",
      "/global/project/projectdirs/desi/spectro/redux/bgs-specsim-paper-kr/spectra-64/126/12626/spectra-64-12626.fits\r\n",
      "/global/project/projectdirs/desi/spectro/redux/bgs-specsim-paper-kr/spectra-64/126/12637\r\n",
      "/global/project/projectdirs/desi/spectro/redux/bgs-specsim-paper-kr/spectra-64/126/12637/spectra-64-12637.fits\r\n",
      "/global/project/projectdirs/desi/spectro/redux/bgs-specsim-paper-kr/spectra-64/126/12639\r\n",
      "/global/project/projectdirs/desi/spectro/redux/bgs-specsim-paper-kr/spectra-64/126/12639/spectra-64-12639.fits\r\n"
     ]
    }
   ],
   "source": [
    "reduxdir = desispec.io.specprod_root()\n",
    "!find $reduxdir | sort"
   ]
  },
  {
   "cell_type": "markdown",
   "metadata": {},
   "source": [
    "As a quick example, let's plot up the zeroth spectrum in healpix pixel `12637`."
   ]
  },
  {
   "cell_type": "code",
   "execution_count": 121,
   "metadata": {
    "collapsed": true
   },
   "outputs": [],
   "source": [
    "specfilename = desispec.io.findfile('spectra', groupname=12637, nside=nside)"
   ]
  },
  {
   "cell_type": "code",
   "execution_count": 122,
   "metadata": {},
   "outputs": [
    {
     "name": "stdout",
     "output_type": "stream",
     "text": [
      "Reading /global/project/projectdirs/desi/spectro/redux/bgs-specsim-paper-kr/spectra-64/126/12637/spectra-64-12637.fits\n"
     ]
    }
   ],
   "source": [
    "print('Reading {}'.format(specfilename))\n",
    "specobj = desispec.io.read_spectra(specfilename)"
   ]
  },
  {
   "cell_type": "code",
   "execution_count": 112,
   "metadata": {},
   "outputs": [],
   "source": [
    "#dir(specobj)"
   ]
  },
  {
   "cell_type": "code",
   "execution_count": 123,
   "metadata": {},
   "outputs": [
    {
     "data": {
      "text/plain": [
       "(dict_keys(['z', 'r', 'b']), dict_keys(['z', 'r', 'b']))"
      ]
     },
     "execution_count": 123,
     "metadata": {},
     "output_type": "execute_result"
    }
   ],
   "source": [
    "specobj.wave.keys(), specobj.flux.keys()"
   ]
  },
  {
   "cell_type": "code",
   "execution_count": 124,
   "metadata": {},
   "outputs": [
    {
     "data": {
      "image/png": "[encoded data removed]",
      "text/plain": [
       "<matplotlib.figure.Figure at 0x2aab13768208>"
      ]
     },
     "metadata": {},
     "output_type": "display_data"
    }
   ],
   "source": [
    "thisone = 0\n",
    "fig, ax = plt.subplots()\n",
    "for camera, color in zip( ('b', 'r', 'z'), ('blue', 'red', 'magenta') ):\n",
    "    ax.plot(specobj.wave[camera], specobj.flux[camera][thisone], color=color)\n",
    "ax.set_xlabel('Wavelength (A)')\n",
    "ax.set_ylabel('Flux ($10^{-17}$ erg/s/cm$^2$)')\n",
    "plt.show()\n",
    "plt.close()"
   ]
  }
 ],
 "metadata": {
  "anaconda-cloud": {},
  "kernelspec": {
   "display_name": "Python 3",
   "language": "python",
   "name": "python3"
  },
  "language_info": {
   "codemirror_mode": {
    "name": "ipython",
    "version": 3
   },
   "file_extension": ".py",
   "mimetype": "text/x-python",
   "name": "python",
   "nbconvert_exporter": "python",
   "pygments_lexer": "ipython3",
   "version": "3.5.3"
  }
 },
 "nbformat": 4,
 "nbformat_minor": 2
}
