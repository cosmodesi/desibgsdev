{
 "cells": [
  {
   "cell_type": "markdown",
   "metadata": {},
   "source": [
    "# BGS Spectral Simulations\n",
    "\n",
    "The goal of this notebook is to do some BGS spectral simulations for paper one."
   ]
  },
  {
   "cell_type": "markdown",
   "metadata": {},
   "source": [
    "## Getting started.\n",
    "\n",
    "First, import all the package dependencies."
   ]
  },
  {
   "cell_type": "code",
   "execution_count": 57,
   "metadata": {
    "collapsed": true
   },
   "outputs": [],
   "source": [
    "import os\n",
    "import numpy as np\n",
    "%matplotlib inline\n",
    "import matplotlib.pyplot as plt\n",
    "from astropy.io import fits\n",
    "from astropy.table import Table\n",
    "import yaml"
   ]
  },
  {
   "cell_type": "code",
   "execution_count": 58,
   "metadata": {},
   "outputs": [],
   "source": [
    "import desispec.io\n",
    "import desisim.io\n",
    "from desisim.scripts import quickgen\n",
    "from desispec.scripts import group_spectra\n",
    "from desispec.io.util import write_bintable, makepath"
   ]
  },
  {
   "cell_type": "code",
   "execution_count": 59,
   "metadata": {},
   "outputs": [],
   "source": [
    "#%pylab inline\n",
    "from desiutil.log import get_logger\n",
    "log = get_logger(level='WARNING')"
   ]
  },
  {
   "cell_type": "code",
   "execution_count": 60,
   "metadata": {
    "collapsed": true
   },
   "outputs": [],
   "source": [
    "# currently in the bgssim branch of desisim\n",
    "from desisim.obs import new_exposure\n",
    "\n",
    "#    new_exposure(flavor, nspec=5000, night=None, expid=None, tileid=None,\n",
    "#                 airmass=1.0, exptime=None, seed=None, testslit=False,\n",
    "#                 arc_lines_filename=None, flat_spectrum_filename=None,\n",
    "#                 target_densities = {})\n",
    "#    returns :   fibermap, truth\n",
    "\n",
    "# or\n",
    "\n",
    "# wavelengths = qsim.source.wavelength_out.to(u.Angstrom).value\n",
    "# bgs = desisim.templates.BGS(wave=wavelengths, add_SNeIa=args.add_SNeIa)\n",
    "# flux, tmpwave, meta1 = bgs.make_templates(nmodel=nobj, seed=args.seed, zrange=args.zrange_bgs,\n",
    "#                    rmagrange=args.rmagrange_bgs,sne_rfluxratiorange=args.sne_rfluxratiorange)"
   ]
  },
  {
   "cell_type": "markdown",
   "metadata": {},
   "source": [
    "## Specify the parameters of the simulation.\n",
    "\n",
    "Next, let's specify the number and spectral type distribution of spectra we want to simulate, and the random seed.  Setting the seed here (which can be any number at all!) ensures that your simulations are reproducible.  Let's also explicitly set the *night* of the \"observations\" (the default is to use the current date) and the *expid* or exposure ID number (which would allow you to simulate more than one DESI exposure).\n",
    "\n",
    "The *flavor* option is used to choose the correct sky-brightness model and it also determines the distribution of targets for a given flavor.  For example, *flavor='dark'* returns the right relative sampling density of ELGs, LRGs, and QSOs.  The other available (science target) options for *flavor* are 'dark', 'gray', 'grey', 'bright', 'bgs', 'mws', 'lrg', 'elg', 'qso', and 'std'.  (You can also set flavor to either 'arc' or 'flat' but that would be boring!)"
   ]
  },
  {
   "cell_type": "code",
   "execution_count": 61,
   "metadata": {
    "collapsed": true
   },
   "outputs": [],
   "source": [
    "nspec = 200\n",
    "seed = 555\n",
    "night = '20170701'\n",
    "flavor = 'bgs'\n",
    "nexp = 10 # number of exposures"
   ]
  },
  {
   "cell_type": "markdown",
   "metadata": {},
   "source": [
    "#### Define the range of allowable observational conditions ####"
   ]
  },
  {
   "cell_type": "code",
   "execution_count": 62,
   "metadata": {
    "collapsed": true
   },
   "outputs": [],
   "source": [
    "exptime_range = (300, 300)\n",
    "airmass_range = (1.25, 1.25)\n",
    "moonphase_range = (0.0, 1.0)\n",
    "moonangle_range = (0, 150)\n",
    "moonzenith_range = (0, 60)"
   ]
  },
  {
   "cell_type": "markdown",
   "metadata": {},
   "source": [
    "#### Define the survey and targeting values for density, sky coverage, etc\n",
    "Any parameters you wish to set to the default can simply be commented out below,\n",
    "the code only replaces the keys that are defined"
   ]
  },
  {
   "cell_type": "code",
   "execution_count": 63,
   "metadata": {
    "collapsed": true
   },
   "outputs": [],
   "source": [
    "targ_dens = {}\n",
    "targ_dens['frac_std'] =  0.02\n",
    "targ_dens['frac_sky'] =  0.08\n",
    "\n",
    "targ_dens['area'] =  14000.0\n",
    "\n",
    "targ_dens['area_bgs'] =  14000\n",
    "targ_dens['nobs_bgs_bright'] =  762\n",
    "targ_dens['nobs_bgs_faint'] =  475\n",
    "targ_dens['ntarget_bgs_bright'] =  818\n",
    "targ_dens['ntarget_bgs_faint'] =  618\n",
    "targ_dens['success_bgs_bright'] =  0.97\n",
    "targ_dens['success_bgs_faint'] =  0.92\n",
    "\n",
    "targ_dens['nobs_mws'] =  700\n",
    "targ_dens['ntarget_mws'] =  736\n",
    "targ_dens['success_mws'] =  0.99"
   ]
  },
  {
   "cell_type": "markdown",
   "metadata": {},
   "source": [
    "## Check our environment variables"
   ]
  },
  {
   "cell_type": "code",
   "execution_count": 64,
   "metadata": {
    "collapsed": true
   },
   "outputs": [],
   "source": [
    "def check_env():\n",
    "    for env in ('DESIMODEL', 'DESI_ROOT', 'DESI_SPECTRO_SIM', 'DESI_SPECTRO_DATA', \n",
    "            'DESI_SPECTRO_REDUX', 'SPECPROD', 'PIXPROD','DESI_BASIS_TEMPLATES'):\n",
    "        if env in os.environ:\n",
    "            print('{} environment set to {}'.format(env, os.getenv(env)))\n",
    "        else:\n",
    "            print('Required environment variable {} not set!'.format(env))"
   ]
  },
  {
   "cell_type": "code",
   "execution_count": 65,
   "metadata": {},
   "outputs": [
    {
     "name": "stdout",
     "output_type": "stream",
     "text": [
      "DESIMODEL environment set to /global/common/edison/contrib/desi/code/desimodel/0.7.0\n",
      "DESI_ROOT environment set to /global/project/projectdirs/desi\n",
      "DESI_SPECTRO_SIM environment set to /global/project/projectdirs/desi/spectro/sim\n",
      "DESI_SPECTRO_DATA environment set to /global/project/projectdirs/desi/spectro/sim/bgs-specsim-paper-kr/\n",
      "DESI_SPECTRO_REDUX environment set to /global/project/projectdirs/desi/spectro/redux\n",
      "SPECPROD environment set to bgs-specsim-paper-kr\n",
      "PIXPROD environment set to bgs-specsim-paper-kr\n",
      "DESI_BASIS_TEMPLATES environment set to /project/projectdirs/desi/spectro/templates/basis_templates/trunk\n"
     ]
    }
   ],
   "source": [
    "check_env()"
   ]
  },
  {
   "cell_type": "code",
   "execution_count": 66,
   "metadata": {},
   "outputs": [
    {
     "name": "stdout",
     "output_type": "stream",
     "text": [
      "env: SPECPROD=bgs-specsim-paper-kr\n",
      "env: PIXPROD=bgs-specsim-paper-kr\n",
      "env: DESI_SPECTRO_DATA=/global/project/projectdirs/desi/spectro/sim/bgs-specsim-paper-kr/\n",
      "env: DESI_BASIS_TEMPLATES=/project/projectdirs/desi/spectro/templates/basis_templates/trunk\n",
      "Simulated raw data will be written to /global/project/projectdirs/desi/spectro/sim/bgs-specsim-paper-kr/\n",
      "Pipeline will read raw data from /global/project/projectdirs/desi/spectro/sim/bgs-specsim-paper-kr/\n",
      "    (without knowing that it was simulated)\n",
      "Pipeline will write processed data to /global/project/projectdirs/desi/spectro/redux/bgs-specsim-paper-kr\n"
     ]
    }
   ],
   "source": [
    "%set_env SPECPROD=bgs-specsim-paper-kr\n",
    "%set_env PIXPROD=bgs-specsim-paper-kr\n",
    "rawdata_dir = desisim.io.simdir()\n",
    "%set_env DESI_SPECTRO_DATA=$rawdata_dir\n",
    "%set_env DESI_BASIS_TEMPLATES=/project/projectdirs/desi/spectro/templates/basis_templates/trunk\n",
    "\n",
    "print('Simulated raw data will be written to {}'.format(desisim.io.simdir()))\n",
    "print('Pipeline will read raw data from {}'.format(desispec.io.rawdata_root()))\n",
    "print('    (without knowing that it was simulated)')\n",
    "print('Pipeline will write processed data to {}'.format(desispec.io.specprod_root()))"
   ]
  },
  {
   "cell_type": "markdown",
   "metadata": {},
   "source": [
    "## Generate the random conditions: ##\n",
    "given the conditions specified above\n",
    "#### Set the random state with the seed given"
   ]
  },
  {
   "cell_type": "code",
   "execution_count": 67,
   "metadata": {
    "collapsed": true
   },
   "outputs": [],
   "source": [
    "rand = np.random.RandomState(seed)"
   ]
  },
  {
   "cell_type": "markdown",
   "metadata": {},
   "source": [
    "#### Randomly select observing consitions for each exposure"
   ]
  },
  {
   "cell_type": "code",
   "execution_count": 68,
   "metadata": {
    "collapsed": true
   },
   "outputs": [],
   "source": [
    "expids = np.arange(nexp).astype(int)\n",
    "exptime = rand.uniform(exptime_range[0], exptime_range[1], nexp)\n",
    "airmass = rand.uniform(airmass_range[0], airmass_range[1], nexp)\n",
    "moonphase = rand.uniform(moonphase_range[0], moonphase_range[1], nexp)\n",
    "moonangle = rand.uniform(moonangle_range[0], moonangle_range[1], nexp)\n",
    "moonzenith = rand.uniform(moonzenith_range[0], moonzenith_range[1], nexp)"
   ]
  },
  {
   "cell_type": "markdown",
   "metadata": {},
   "source": [
    "#### Build a metadata table with the top-level simulation inputs."
   ]
  },
  {
   "cell_type": "code",
   "execution_count": 69,
   "metadata": {},
   "outputs": [],
   "source": [
    "metafile = os.path.join( desisim.io.simdir(), 'mysim.fits')\n",
    "metacols = [\n",
    "    ('BRICKNAME', 'S20'),\n",
    "    ('SEED', 'S20'),\n",
    "    ('EXPTIME', 'f4'),\n",
    "    ('AIRMASS', 'f4'),\n",
    "    ('MOONPHASE', 'f4'),\n",
    "    ('MOONANGLE', 'f4'),\n",
    "    ('MOONZENITH', 'f4')]\n",
    "meta = Table(np.zeros(nexp, dtype=metacols))\n",
    "meta['EXPTIME'].unit = 's'\n",
    "meta['MOONANGLE'].unit = 'deg'\n",
    "meta['MOONZENITH'].unit = 'deg'\n",
    "\n",
    "#meta['BRICKNAME'] = ['{}-{:03d}'.format(args.brickname, ii) for ii in range(args.nbrick)]\n",
    "meta['EXPTIME'] = exptime\n",
    "meta['AIRMASS'] = airmass\n",
    "meta['MOONPHASE'] = moonphase\n",
    "meta['MOONANGLE'] = moonangle\n",
    "meta['MOONZENITH'] = moonzenith\n",
    "\n",
    "log.info('Writing {}'.format(metafile))"
   ]
  },
  {
   "cell_type": "markdown",
   "metadata": {},
   "source": [
    "#### Open yaml to define the targeting parameter values ####\n",
    "Then for those defined above in targ_dens, change the default value to what we specified"
   ]
  },
  {
   "cell_type": "code",
   "execution_count": 70,
   "metadata": {},
   "outputs": [],
   "source": [
    "targetyaml = os.path.join(os.environ['DESIMODEL'],'data','targets','targets.yaml')\n",
    "tgt = yaml.load(open(targetyaml))\n",
    "for key, val in targ_dens.items():\n",
    "    tgt[key] = val\n"
   ]
  },
  {
   "cell_type": "markdown",
   "metadata": {},
   "source": [
    "## Generating noiseless *simspec* and *fibermap* spectral files ##\n",
    "\n",
    "The first step is to generate the `fibermap` and `simspec` files needed by `quickgen`.  The `fibermap` table contains (simulated) information about the position of each target in the DESI focal plane, while the `simspec` table holds the \"truth\" spectra and the intrinsic properties of each object (redshift, noiseless photometry, [OII] flux, etc.).\n",
    "\n",
    "In detail, the *simspec* and *fibermap* data models are described at  \n",
    "* http://desidatamodel.readthedocs.io/en/latest/DESI_SPECTRO_SIM/PIXPROD/NIGHT/simspec-EXPID.html\n",
    "* http://desidatamodel.readthedocs.io/en/latest/DESI_SPECTRO_DATA/NIGHT/fibermap-EXPID.html\n",
    "\n"
   ]
  },
  {
   "cell_type": "code",
   "execution_count": null,
   "metadata": {
    "scrolled": true
   },
   "outputs": [],
   "source": [
    "for ii,expid in enumerate(expids):\n",
    "    fibermap, truth = new_exposure(flavor, nspec=nspec, night=night, expid=int(expid), tileid=None,\\\n",
    "                 airmass=airmass[ii], exptime=exptime[ii], seed=seed,\\\n",
    "                 target_densities=tgt)"
   ]
  },
  {
   "cell_type": "markdown",
   "metadata": {},
   "source": [
    "## Simulate spectra using `quickgen` ##\n",
    "To get around the fact that we aren't using the command line, we use the arg parser\n",
    "and pass the arguments to the main function of quickgen directly.\n",
    "\n",
    "more information at:\n",
    "http://desidatamodel.readthedocs.io/en/latest/DESI_SPECTRO_REDUX/PRODNAME/exposures/NIGHT/EXPID/index.html\n",
    "\n",
    "`Quickgen` additional commands for 'quickbrick mode:'\n",
    "    '--objtype', 'BGS',\n",
    "    '--brickname', 'whatever',\n",
    "    '--zrange-bgs', (0.01, 0.4),\n",
    "    '--rmagrange-bgs', (15.0,19.5)\n",
    "    '--exptime', None\n",
    "   '--airmass', 1.5"
   ]
  },
  {
   "cell_type": "code",
   "execution_count": null,
   "metadata": {
    "collapsed": true
   },
   "outputs": [],
   "source": [
    "for ii,expid in enumerate(expids):\n",
    "    fiberfile = desispec.io.findfile('fibermap', night=night, expid=expid)\n",
    "    simspecfile = desisim.io.findfile('simspec', night=night, expid=expid)\n",
    "    args = quickgen.parse([\n",
    "                            '--simspec', simspecfile,\n",
    "                            '--fibermap', fiberfile,\n",
    "                            '--nspec', str(nspec),\n",
    "                            '--seed', str(seed),\n",
    "                            '--moon-phase', str(moonphase[ii]),\n",
    "                            '--moon-angle', str(moonangle[ii]),\n",
    "                            '--moon-zenith', str(moonzenith[ii])\n",
    "          ])\n",
    "    quickgen.main(args)\n",
    "    "
   ]
  },
  {
   "cell_type": "markdown",
   "metadata": {},
   "source": [
    "## Regroup the spectra ##\n",
    "\n",
    "working with `cframe` files is pretty tedious, especially across three cameras, 10 spectrographs, and more than 35 million targets!  Therefore, let's combine and reorganize the individual `cframe` files into `spectra` files grouped on the sky. Spectra are organized into healpix pixels (here chosen to have `nside=64`).  If you're interested, you can read more about the healpix directory structure here:  \n",
    "https://github.com/desihub/desispec/blob/master/doc/nb/Intro_to_DESI_spectra.ipynb\n",
    "\n",
    "Regrouping is especially important for real observations with overlapping tiles where the same object could be reobserved on different exposures separated by short or large amounts of time.\n"
   ]
  },
  {
   "cell_type": "code",
   "execution_count": 86,
   "metadata": {},
   "outputs": [],
   "source": [
    "nside = 64\n",
    "args = group_spectra.parse(['--hpxnside', '{}'.format(nside)])\n",
    "group_spectra.main(args)"
   ]
  }
 ],
 "metadata": {
  "anaconda-cloud": {},
  "kernelspec": {
   "display_name": "Python [default]",
   "language": "python",
   "name": "python3"
  },
  "language_info": {
   "codemirror_mode": {
    "name": "ipython",
    "version": 3
   },
   "file_extension": ".py",
   "mimetype": "text/x-python",
   "name": "python",
   "nbconvert_exporter": "python",
   "pygments_lexer": "ipython3",
   "version": "3.6.5"
  }
 },
 "nbformat": 4,
 "nbformat_minor": 2
}
