{
 "cells": [
  {
   "cell_type": "markdown",
   "metadata": {},
   "source": [
    "# BGS Signal-to-Noise Ratio and Redshift Efficiency\n",
    "\n",
    "The goal of this notebook is to assess the signal-to-noise ratio and redshift efficiency of BGS targets observed in \"nominal\" observing conditions (which are defined [here](https://github.com/desihub/desisurvey/blob/master/py/desisurvey/data/config.yaml#L102) and discussed [here](https://github.com/desihub/desisurvey/issues/77), among other places).  Specifically, the nominal BGS observing conditions we adopt (note the 5-minute exposure time is with the moon down!) are:\n",
    "\n",
    "```python\n",
    "{'AIRMASS': 1.0,\n",
    " 'EXPTIME': 300,\n",
    " 'SEEING': 1.1,\n",
    " 'MOONALT': -60,\n",
    " 'MOONFRAC': 0.0,\n",
    " 'MOONSEP': 180}\n",
    "```\n",
    "\n",
    "During the survey itself, observations with the moon up (i.e., during bright time) will be obtained with longer exposure times according to the bright-time exposure-time model (see [here](https://github.com/desihub/surveysim/tree/master/doc/nb)).\n",
    "\n",
    "Because we fix the observing conditions, we only consider how redshift efficiency depends on galaxy properties (apparent magnitude, redshift, 4000-A break, etc.).  However, note that the code is structured such that we *could* (now or in the future) explore variations in seeing, exposure time, and lunar parameters.\n",
    "\n",
    "For code to generate large numbers of spectra over significant patches of sky and to create a representative DESI dataset (with parallelism), see `desitarget/bin/select_mock_targets` and `desitarget.mock.build.targets_truth`.\n",
    "\n",
    "Finally, note that the various python Classes instantiated here (documented in `desitarget.mock.mockmaker`) are easily extensible to other mock catalogs and galaxy/QSO/stellar physics.\n",
    "\n"
   ]
  },
  {
   "cell_type": "code",
   "execution_count": 1,
   "metadata": {
    "collapsed": true
   },
   "outputs": [],
   "source": [
    "import os\n",
    "import numpy as np\n",
    "import matplotlib.pyplot as plt\n",
    "from astropy.table import Table, vstack\n",
    "from astropy.io import fits"
   ]
  },
  {
   "cell_type": "code",
   "execution_count": null,
   "metadata": {
    "collapsed": true
   },
   "outputs": [],
   "source": [
    "import multiprocessing\n",
    "nproc = multiprocessing.cpu_count() // 2 "
   ]
  },
  {
   "cell_type": "code",
   "execution_count": 2,
   "metadata": {
    "collapsed": true
   },
   "outputs": [],
   "source": [
    "from desispec.io.util import write_bintable\n",
    "from desitarget\n",
    "from desiutil.log import get_logger, DEBUG\n",
    "log = get_logger()"
   ]
  },
  {
   "cell_type": "code",
   "execution_count": null,
   "metadata": {},
   "outputs": [],
   "source": [
    "if 'HOSTNAME' in os.environ.keys() and os.environ['HOSTNAME'] == 'cori19':\n",
    "    #import desitarget_fix_densities as desitarget\n",
    "    from desitarget_fix_densities.cuts import isBGS_bright, isBGS_faint\n",
    "    from desitarget_fix_densities.mock.mockmaker import BGSMaker\n",
    "    from desitarget_fix_densities.mock.mockmaker import SKYMaker\n",
    "    os.environ['DESITARGET'] == os.path.join(os.curdir,'desitarget_fix_densities')\n",
    "else:\n",
    "    from desitarget.cuts import isBGS_bright, isBGS_faint\n",
    "    from desitarget.mock.mockmaker import BGSMaker\n",
    "    from desitarget.mock.mockmaker import SKYMaker"
   ]
  },
  {
   "cell_type": "code",
   "execution_count": 3,
   "metadata": {
    "collapsed": true
   },
   "outputs": [],
   "source": [
    "import seaborn as sns\n",
    "sns.set(style='white', font_scale=1.1, palette='deep')"
   ]
  },
  {
   "cell_type": "code",
   "execution_count": 4,
   "metadata": {
    "collapsed": true
   },
   "outputs": [],
   "source": [
    "%matplotlib inline"
   ]
  },
  {
   "cell_type": "markdown",
   "metadata": {},
   "source": [
    "#### Establish the I/O path, random seed, and path to the dust maps and desired healpixel."
   ]
  },
  {
   "cell_type": "code",
   "execution_count": 5,
   "metadata": {
    "collapsed": true
   },
   "outputs": [],
   "source": [
    "simdir = os.path.join(os.getenv('DESI_ROOT'), 'spectro', 'sim', 'bgs')\n",
    "dust_dir = '/Users/ioannis/research/data/sfd_dustmaps/maps'"
   ]
  },
  {
   "cell_type": "code",
   "execution_count": 6,
   "metadata": {
    "collapsed": true
   },
   "outputs": [],
   "source": [
    "healpixel = 26030\n",
    "nside = 64"
   ]
  },
  {
   "cell_type": "code",
   "execution_count": 7,
   "metadata": {
    "collapsed": true
   },
   "outputs": [],
   "source": [
    "seed = 555\n",
    "rand = np.random.RandomState(seed)"
   ]
  },
  {
   "cell_type": "markdown",
   "metadata": {},
   "source": [
    "### All or none of the output files can be overwritten using these keywords."
   ]
  },
  {
   "cell_type": "code",
   "execution_count": null,
   "metadata": {
    "collapsed": true
   },
   "outputs": [],
   "source": [
    "overwrite_spectra = False\n",
    "overwrite_redshifts = False\n",
    "overwrite_results = False"
   ]
  },
  {
   "cell_type": "markdown",
   "metadata": {},
   "source": [
    "## Set up the simulation parameters.\n",
    "\n",
    "Here we use the mock to capture the correct distribution of apparent magnitudes, galaxy properties, and redshifts.\n",
    "\n",
    "Note that if `use_mock=False` then *rmagmin*, *rmagmax*, *zmin*, and *zmax* are required. For example, here's another possible simulation of 1000 spectra in which the magnitude (r=19.5) and redshift (z=0.2) are held fixed while moonfrac and moonsep are varied (as well as intrinsic galaxy properties):\n",
    "\n",
    "```python\n",
    "sim2 = dict(suffix='sim02',\n",
    "            use_mock=False,\n",
    "            nsim=10,\n",
    "            nspec=100,\n",
    "            seed=22,\n",
    "            zmin=0.2, zmax=0.2,\n",
    "            rmagmin=19.5, rmagmax=19.5,\n",
    "            moonfracmin=0.0, moonfracmax=1.0,\n",
    "            moonsepmin=0.0, moonsepmax=120.0,\n",
    "           )\n",
    "```"
   ]
  },
  {
   "cell_type": "code",
   "execution_count": null,
   "metadata": {
    "collapsed": true
   },
   "outputs": [],
   "source": [
    "# Vary galaxy properties with nominal observing conditions but split \n",
    "# the sample into nsim chunks to avoid memory issues.\n",
    "sim1 = dict(suffix='sim01',\n",
    "            use_mock=True,\n",
    "            nsim=10,\n",
    "            nspec=100,\n",
    "            seed=11,\n",
    "           )"
   ]
  },
  {
   "cell_type": "code",
   "execution_count": null,
   "metadata": {
    "collapsed": true
   },
   "outputs": [],
   "source": [
    "#from desisim.simexp import reference_conditions\n",
    "#ref_obsconditions = reference_conditions['BGS']\n",
    "ref_obsconditions = {'AIRMASS': 1.0, 'EXPTIME': 300, 'SEEING': 1.1, 'MOONALT': -60, 'MOONFRAC': 0.0, 'MOONSEP': 180}\n",
    "print(ref_obsconditions)"
   ]
  },
  {
   "cell_type": "markdown",
   "metadata": {},
   "source": [
    "### Generate Spectra"
   ]
  },
  {
   "cell_type": "code",
   "execution_count": null,
   "metadata": {
    "collapsed": true
   },
   "outputs": [],
   "source": [
    "from desistudy import bgs_sim_spectra\n",
    "\n",
    "for sim in np.atleast_1d(sim1):\n",
    "    bgs_sim_spectra(sim, verbose=False, overwrite=overwrite_spectra)"
   ]
  },
  {
   "cell_type": "markdown",
   "metadata": {},
   "source": [
    "## Fit the redshifts.\n",
    "\n",
    "This step took ~1.8 seconds per spectrum, ~3 minutes per 100 spectra, or ~30 minutes for all 1000 spectra with my 4-core laptop."
   ]
  },
  {
   "cell_type": "code",
   "execution_count": null,
   "metadata": {
    "collapsed": true
   },
   "outputs": [],
   "source": [
    "from desistudy import bgs_redshifts\n",
    "\n",
    "for sim in np.atleast_1d(sim1):\n",
    "    bgs_redshifts(sim, overwrite=overwrite_redshifts)"
   ]
  },
  {
   "cell_type": "markdown",
   "metadata": {},
   "source": [
    "## Gather the results."
   ]
  },
  {
   "cell_type": "code",
   "execution_count": null,
   "metadata": {
    "collapsed": true
   },
   "outputs": [],
   "source": [
    "from desistudy import bgs_gather_results\n",
    "\n",
    "for sim in np.atleast_1d(sim1):\n",
    "    bgs_gather_results(sim, overwrite=overwrite_results)"
   ]
  },
  {
   "cell_type": "markdown",
   "metadata": {},
   "source": [
    "## Analyze the outputs.\n",
    "\n",
    "We only have one simulation so the code below is hard-coded to sim1, although it would be trivial to generalize."
   ]
  },
  {
   "cell_type": "code",
   "execution_count": null,
   "metadata": {
    "collapsed": true
   },
   "outputs": [],
   "source": [
    "sim = sim1\n",
    "resultfile = os.path.join(simdir, sim['suffix'], 'bgs-{}-results.fits'.format(sim['suffix']))\n",
    "log.info('Reading {}'.format(resultfile))\n",
    "result = Table.read(resultfile)\n",
    "result"
   ]
  },
  {
   "cell_type": "code",
   "execution_count": null,
   "metadata": {
    "collapsed": true
   },
   "outputs": [],
   "source": [
    "from desistudy import qa_zmag, qa_efficiency, qa_zwarn4, qa_radec"
   ]
  },
  {
   "cell_type": "code",
   "execution_count": null,
   "metadata": {
    "collapsed": true
   },
   "outputs": [],
   "source": [
    "qa_zmag(result['ZTRUE'], result['RMAG'], maglabel=r'$r_{\\rm DECaLS}$ (AB mag)', faintmag=20.0)"
   ]
  },
  {
   "cell_type": "code",
   "execution_count": null,
   "metadata": {
    "collapsed": true
   },
   "outputs": [],
   "source": [
    "qa_efficiency(result)"
   ]
  },
  {
   "cell_type": "code",
   "execution_count": null,
   "metadata": {
    "collapsed": true
   },
   "outputs": [],
   "source": [
    "qa_zwarn4(result)"
   ]
  },
  {
   "cell_type": "markdown",
   "metadata": {},
   "source": [
    "#### BGS\n",
    "** NOTE ** must be in branch 'fix-densities' of desitarget for the mocktarget things\n",
    "\n",
    "\n",
    "data is a dictionary of lists:\n",
    "    data = {'TARGET_NAME': target_name_list, 'MOCKFORMAT': 'gaussianfield',\n",
    "               'OBJID': objid_list, 'MOCKID': mockid_list, 'BRICKNAME': brickname_list,\n",
    "               'RA': ra_list, 'DEC': dec_list, 'Z': zz_list,'FILES': files_list, 'N_PER_FILE': n_per_file}\n",
    "\n",
    "\n",
    "but data has to be run through:\n",
    "\n",
    "  _prepare_spectra(data, nside_chunk=128):\n",
    "  \n",
    "  which adds the following to data with appropriate defaults\n",
    "  \n",
    "        data.update({\n",
    "            'TRUESPECTYPE': 'GALAXY', 'TEMPLATETYPE': 'BGS', 'TEMPLATESUBTYPE': '',\n",
    "            'SEED': seed, 'VDISP': vdisp, \n",
    "            'SHAPEEXP_R': gmm['exp_r'], 'SHAPEEXP_E1': gmm['exp_e1'], 'SHAPEEXP_E2': gmm['exp_e2'], \n",
    "            'SHAPEDEV_R': gmm['dev_r'], 'SHAPEDEV_E1': gmm['dev_e1'], 'SHAPEDEV_E2': gmm['dev_e2'],\n",
    "            })\n",
    "\n",
    "indx is an optional list of inde=indices to use corresponding to the indices of the above list"
   ]
  },
  {
   "cell_type": "markdown",
   "metadata": {},
   "source": [
    "Once data (and optionally indx) are defined we're ready to make the spectra;\n",
    "\n",
    "    bgsmaker.make_spectra(self, data=data, indx=None) \n",
    "\n",
    "\n",
    "make_spectra returns:\n",
    "\n",
    "        Returns\n",
    "        -------\n",
    "        flux : :class:`numpy.ndarray`\n",
    "            Target spectra.\n",
    "        wave : :class:`numpy.ndarray`\n",
    "            Corresponding wavelength array.\n",
    "        meta : :class:`astropy.table.Table`\n",
    "            Spectral metadata table.\n",
    "        targets : :class:`astropy.table.Table`\n",
    "            Target catalog.\n",
    "        truth : :class:`astropy.table.Table`\n",
    "            Corresponding truth table."
   ]
  },
  {
   "cell_type": "code",
   "execution_count": 32,
   "metadata": {},
   "outputs": [
    {
     "name": "stdout",
     "output_type": "stream",
     "text": [
      "INFO:io.py:962:read_basis_templates: Reading /Users/ioannis/work/desi/spectro/templates/basis_templates/v2.4/bgs_templates_v2.1.fits metadata.\n",
      "INFO:<ipython-input-9-288e41354821>:5:demo_mockmaker: Reading the mock catalog for BGSs\n",
      "INFO:mockmaker.py:1030:readmock: Assigning healpix pixels with nside = 64\n",
      "INFO:mockmaker.py:1040:readmock: Trimmed to 2338 BGSs in healpixels 26030\n",
      "INFO:io.py:974:read_basis_templates: Reading /Users/ioannis/work/desi/spectro/templates/basis_templates/v2.4/bgs_templates_v2.1.fits\n",
      "INFO:<ipython-input-9-288e41354821>:8:demo_mockmaker: Generating 16 random spectra.\n",
      "INFO:<ipython-input-9-288e41354821>:12:demo_mockmaker: Selecting targets\n",
      "CPU times: user 14.7 s, sys: 2.63 s, total: 17.3 s\n",
      "Wall time: 16.9 s\n"
     ]
    },
    {
     "data": {
      "image/png": "[encoded data removed]",
      "text/plain": [
       "<matplotlib.figure.Figure at 0x119cb93c8>"
      ]
     },
     "metadata": {},
     "output_type": "display_data"
    }
   ],
   "source": [
    "#bgsmaker = BGSMaker(seed=seed)\n",
    "\n",
    "#log.info('Reading the mock catalog for {}s'.format(bgsmaker.objtype))\n",
    "\n",
    "#data = {'TARGET_NAME': target_name_list, 'MOCKFORMAT': 'gaussianfield',\n",
    "#               'OBJID': objid_list, 'MOCKID': mockid_list, 'BRICKNAME': brickname_list,\n",
    "#               'RA': ra_list, 'DEC': dec_list, 'Z': zz_list,'FILES': files_list, 'N_PER_FILE': n_per_file}\n",
    "\n",
    "## If you want to start from an existing default dictionary, you could use:\n",
    "##    tdata = bgsmaker.read(healpixels=healpixel, nside=nside, dust_dir=dust_dir)\n",
    "## then either overwrite the relevant details (e.g. z, mag, ra, dec, ids) \n",
    "## or actually use the defaults for your analysis\n",
    "\n",
    "## but first we have to prepare the spectra. this internal function adds required fields \n",
    "## to the data dictionary that we don't want to deal with ourselves\n",
    "#data = bgsmaker._prepare_spectra(data, nside_chunk=nside_chunk)\n",
    "\n",
    "## Finally we can make the spectra\n",
    "#flux, wave, meta, targets, truth = bgsmaker.make_spectra(data) "
   ]
  },
  {
   "cell_type": "code",
   "execution_count": null,
   "metadata": {
    "collapsed": true
   },
   "outputs": [],
   "source": [
    "from desistudy import write_templates\n",
    "write_templates(outfile, flux, wave, meta)"
   ]
  },
  {
   "cell_type": "code",
   "execution_count": null,
   "metadata": {
    "collapsed": true
   },
   "outputs": [],
   "source": [
    "from desisim.scripts.quickspectra import sim_spectra"
   ]
  },
  {
   "cell_type": "code",
   "execution_count": null,
   "metadata": {
    "collapsed": true
   },
   "outputs": [],
   "source": [
    "simdata = bgs_write_simdata(sim,rand,overwrite=overwrite_spectra)\n",
    "\n",
    "for ii, simdata1 in enumerate(simdata):\n",
    "\n",
    "    # Generate the observing conditions dictionary.  \n",
    "    obs = simdata2obsconditions(simdata1)\n",
    "\n",
    "    # Generate the rest-frame templates.  Currently not writing out the rest-frame \n",
    "    # templates but we could.\n",
    "    flux, wave, meta = bgs_make_templates(sim, rand, BGSmaker)\n",
    "\n",
    "    truefile = os.path.join(simdir, sim['suffix'], 'bgs-{}-{:03}-true.fits'.format(sim['suffix'], ii))\n",
    "    if overwrite or not os.path.isfile(truefile):    \n",
    "        write_templates(truefile, flux, wave, meta)\n",
    "\n",
    "    spectrafile = os.path.join(simdir, sim['suffix'], 'bgs-{}-{:03}.fits'.format(sim['suffix'], ii))\n",
    "    if overwrite or not os.path.isfile(spectrafile):\n",
    "        sim_spectra(wave, flux, 'bgs', spectrafile, obsconditions=obs, \n",
    "                    sourcetype='bgs', seed=sim['seed'], expid=ii)\n",
    "    else:\n",
    "        print('File {} exists...skipping.'.format(spectrafile))"
   ]
  },
  {
   "cell_type": "markdown",
   "metadata": {},
   "source": [
    "### Finally demonstrate how to generate (empyt) SKY spectra."
   ]
  },
  {
   "cell_type": "code",
   "execution_count": 41,
   "metadata": {
    "scrolled": true
   },
   "outputs": [
    {
     "name": "stdout",
     "output_type": "stream",
     "text": [
      "INFO:mockmaker.py:583:readmock: Reading /Users/ioannis/work/desi/mocks/GaussianRandomField/v0.0.1/2048/random.fits\n",
      "INFO:mockmaker.py:595:readmock: Assigning healpix pixels with nside = 64\n",
      "INFO:mockmaker.py:604:readmock: Trimmed to 1659 SKYs in healpixel(s) 26030\n"
     ]
    }
   ],
   "source": [
    "#SKY = SKYMaker(seed=seed)\n",
    "#skydata = SKY.read(healpixels=healpixel, nside=nside, dust_dir=dust_dir)\n",
    "#skyflux, skywave, skymeta, skytargets, skytruth = SKY.make_spectra(skydata)\n",
    "#SKY.select_targets(skytargets, skytruth)"
   ]
  }
 ],
 "metadata": {
  "kernelspec": {
   "display_name": "Python [default]",
   "language": "python",
   "name": "python3"
  },
  "language_info": {
   "codemirror_mode": {
    "name": "ipython",
    "version": 3
   },
   "file_extension": ".py",
   "mimetype": "text/x-python",
   "name": "python",
   "nbconvert_exporter": "python",
   "pygments_lexer": "ipython3",
   "version": "3.6.1"
  }
 },
 "nbformat": 4,
 "nbformat_minor": 2
}
