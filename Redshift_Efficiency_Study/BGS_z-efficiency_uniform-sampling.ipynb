{
 "cells": [
  {
   "cell_type": "markdown",
   "metadata": {},
   "source": [
    "# BGS Signal-to-Noise Ratio and Redshift Efficiency\n",
    "\n",
    "The goal of this notebook is to assess the signal-to-noise ratio and redshift efficiency of BGS targets observed in \"nominal\" observing conditions (which are defined [here](https://github.com/desihub/desisurvey/blob/master/py/desisurvey/data/config.yaml#L102) and discussed [here](https://github.com/desihub/desisurvey/issues/77), among other places).  Specifically, the nominal BGS observing conditions we adopt (note the 5-minute exposure time is with the moon down!) are:\n",
    "\n",
    "```python\n",
    "{'AIRMASS': 1.0,\n",
    " 'EXPTIME': 300,\n",
    " 'SEEING': 1.1,\n",
    " 'MOONALT': -60,\n",
    " 'MOONFRAC': 0.0,\n",
    " 'MOONSEP': 180}\n",
    "```\n",
    "\n",
    "During the survey itself, observations with the moon up (i.e., during bright time) will be obtained with longer exposure times according to the bright-time exposure-time model (see [here](https://github.com/desihub/surveysim/tree/master/doc/nb)).\n",
    "\n",
    "Because we fix the observing conditions, we only consider how redshift efficiency depends on galaxy properties (apparent magnitude, redshift, 4000-A break, etc.).  However, note that the code is structured such that we *could* (now or in the future) explore variations in seeing, exposure time, and lunar parameters.\n",
    "\n",
    "For code to generate large numbers of spectra over significant patches of sky and to create a representative DESI dataset (with parallelism), see `desitarget/bin/select_mock_targets` and `desitarget.mock.build.targets_truth`.\n",
    "\n",
    "Finally, note that the various python Classes instantiated here (documented in `desitarget.mock.mockmaker`) are easily extensible to other mock catalogs and galaxy/QSO/stellar physics.\n",
    "\n"
   ]
  },
  {
   "cell_type": "code",
   "execution_count": 1,
   "metadata": {},
   "outputs": [
    {
     "name": "stderr",
     "output_type": "stream",
     "text": [
      "/global/common/software/desi/cori/desiconda/20180130-1.2.4-spec/conda/lib/python3.6/site-packages/ipykernel/__main__.py:4: UserWarning: \n",
      "This call to matplotlib.use() has no effect because the backend has already\n",
      "been chosen; matplotlib.use() must be called *before* pylab, matplotlib.pyplot,\n",
      "or matplotlib.backends is imported for the first time.\n",
      "\n",
      "The backend was *originally* set to 'module://ipykernel.pylab.backend_inline' by the following code:\n",
      "  File \"/global/common/software/desi/cori/desiconda/20180130-1.2.4-spec/conda/lib/python3.6/runpy.py\", line 193, in _run_module_as_main\n",
      "    \"__main__\", mod_spec)\n",
      "  File \"/global/common/software/desi/cori/desiconda/20180130-1.2.4-spec/conda/lib/python3.6/runpy.py\", line 85, in _run_code\n",
      "    exec(code, run_globals)\n",
      "  File \"/global/common/software/desi/cori/desiconda/20180130-1.2.4-spec/conda/lib/python3.6/site-packages/ipykernel/__main__.py\", line 3, in <module>\n",
      "    app.launch_new_instance()\n",
      "  File \"/global/common/software/desi/cori/desiconda/20180130-1.2.4-spec/conda/lib/python3.6/site-packages/traitlets/config/application.py\", line 657, in launch_instance\n",
      "    app.initialize(argv)\n",
      "  File \"<decorator-gen-123>\", line 2, in initialize\n",
      "  File \"/global/common/software/desi/cori/desiconda/20180130-1.2.4-spec/conda/lib/python3.6/site-packages/traitlets/config/application.py\", line 87, in catch_config_error\n",
      "    return method(app, *args, **kwargs)\n",
      "  File \"/global/common/software/desi/cori/desiconda/20180130-1.2.4-spec/conda/lib/python3.6/site-packages/ipykernel/kernelapp.py\", line 472, in initialize\n",
      "    self.init_code()\n",
      "  File \"/global/common/software/desi/cori/desiconda/20180130-1.2.4-spec/conda/lib/python3.6/site-packages/IPython/core/shellapp.py\", line 261, in init_code\n",
      "    self._run_startup_files()\n",
      "  File \"/global/common/software/desi/cori/desiconda/20180130-1.2.4-spec/conda/lib/python3.6/site-packages/IPython/core/shellapp.py\", line 352, in _run_startup_files\n",
      "    self._exec_file(fname)\n",
      "  File \"/global/common/software/desi/cori/desiconda/20180130-1.2.4-spec/conda/lib/python3.6/site-packages/IPython/core/shellapp.py\", line 323, in _exec_file\n",
      "    raise_exceptions=True)\n",
      "  File \"/global/common/software/desi/cori/desiconda/20180130-1.2.4-spec/conda/lib/python3.6/site-packages/IPython/core/interactiveshell.py\", line 2491, in safe_execfile\n",
      "    self.compile if shell_futures else None)\n",
      "  File \"/global/common/software/desi/cori/desiconda/20180130-1.2.4-spec/conda/lib/python3.6/site-packages/IPython/utils/py3compat.py\", line 186, in execfile\n",
      "    exec(compiler(f.read(), fname, 'exec'), glob, loc)\n",
      "  File \"/global/u2/k/kremin/.ipython/profile_default/startup/python_startup.py\", line 6, in <module>\n",
      "    import matplotlib.pyplot as plt\n",
      "  File \"/global/common/software/desi/cori/desiconda/20180130-1.2.4-spec/conda/lib/python3.6/site-packages/matplotlib/pyplot.py\", line 72, in <module>\n",
      "    from matplotlib.backends import pylab_setup\n",
      "  File \"/global/common/software/desi/cori/desiconda/20180130-1.2.4-spec/conda/lib/python3.6/site-packages/matplotlib/backends/__init__.py\", line 14, in <module>\n",
      "    line for line in traceback.format_stack()\n",
      "\n",
      "\n"
     ]
    }
   ],
   "source": [
    "import os\n",
    "import numpy as np\n",
    "import matplotlib as mpl\n",
    "mpl.use('Agg')\n",
    "import matplotlib.pyplot as plt\n",
    "from astropy.table import Table, vstack\n",
    "from astropy.io import fits"
   ]
  },
  {
   "cell_type": "code",
   "execution_count": 2,
   "metadata": {},
   "outputs": [],
   "source": [
    "from desispec.io.util import write_bintable\n",
    "from desiutil.log import get_logger, DEBUG\n",
    "log = get_logger()\n",
    "from desitarget.cuts import isBGS_bright, isBGS_faint\n",
    "## Following not yet available in the master branch\n",
    "from desitarget.mock.mockmaker import BGSMaker\n",
    "from desitarget.mock.mockmaker import SKYMaker"
   ]
  },
  {
   "cell_type": "code",
   "execution_count": 3,
   "metadata": {},
   "outputs": [],
   "source": [
    "import multiprocessing\n",
    "nproc = multiprocessing.cpu_count() // 2 \n",
    "\n",
    "import seaborn as sns\n",
    "sns.set(style='white', font_scale=1.1, palette='deep')"
   ]
  },
  {
   "cell_type": "code",
   "execution_count": 4,
   "metadata": {},
   "outputs": [],
   "source": [
    "# Specify if using this from command line as a .py or as an ipynb\n",
    "using_py = False\n",
    "\n",
    "class arg:\n",
    "    pass"
   ]
  },
  {
   "cell_type": "code",
   "execution_count": 5,
   "metadata": {},
   "outputs": [],
   "source": [
    "if using_py:\n",
    "    import argparse\n",
    "    parser = argparse.ArgumentParser()\n",
    "    parser.add_argument('--sim', type=int, default=None, help='Simulation number (see documentation)')\n",
    "    parser.add_argument('--part', type=str, default=None, help='Which part of the simulation to run. Options are all, newexp, group, zfit')\n",
    "    args = parser.parse_args()\n",
    "    if args.sim is None:\n",
    "        parser.print_help()\n",
    "        sys.exit(1)   \n",
    "else:\n",
    "    %matplotlib inline\n",
    "    %load_ext autoreload\n",
    "    %autoreload 2\n",
    "    args = arg()\n",
    "    args.sim = 1\n",
    "    args.part = 'all'"
   ]
  },
  {
   "cell_type": "markdown",
   "metadata": {},
   "source": [
    "#### Establish the I/O path, random seed, and path to the dust maps and desired healpixel."
   ]
  },
  {
   "cell_type": "code",
   "execution_count": 6,
   "metadata": {},
   "outputs": [],
   "source": [
    "simdir = os.path.join(os.getenv('DESI_ROOT'), 'spectro', 'sim', 'bgs', 'kremin', 'flat_priors')\n",
    "\n",
    "if not os.path.exists(simdir):\n",
    "    os.makedirs(simdir)"
   ]
  },
  {
   "cell_type": "code",
   "execution_count": 7,
   "metadata": {},
   "outputs": [],
   "source": [
    "seed = 626"
   ]
  },
  {
   "cell_type": "markdown",
   "metadata": {},
   "source": [
    "### All or none of the output files can be overwritten using these keywords."
   ]
  },
  {
   "cell_type": "code",
   "execution_count": 8,
   "metadata": {},
   "outputs": [],
   "source": [
    "overwrite_spectra = True\n",
    "overwrite_templates = True\n",
    "overwrite_redshifts = True\n",
    "overwrite_results = True"
   ]
  },
  {
   "cell_type": "markdown",
   "metadata": {},
   "source": [
    "#### Initialize random state"
   ]
  },
  {
   "cell_type": "code",
   "execution_count": 9,
   "metadata": {},
   "outputs": [],
   "source": [
    "rand = np.random.RandomState(seed)"
   ]
  },
  {
   "cell_type": "markdown",
   "metadata": {},
   "source": [
    "## Set up the simulation parameters.\n",
    "\n",
    "Here we use the mock to capture the correct distribution of apparent magnitudes, galaxy properties, and redshifts.\n",
    "\n",
    "Note that if `use_mock=False` then *rmagmin*, *rmagmax*, *zmin*, and *zmax* are required. For example, here's another possible simulation of 1000 spectra in which the magnitude (r=19.5) and redshift (z=0.2) are held fixed while moonfrac and moonsep are varied (as well as intrinsic galaxy properties):\n",
    "\n",
    "```python\n",
    "sim2 = dict(suffix='sim02',\n",
    "            use_mock=False,\n",
    "            nsim=10,\n",
    "            nspec=100,\n",
    "            seed=22,\n",
    "            zmin=0.2, zmax=0.2,\n",
    "            rmagmin=19.5, rmagmax=19.5,\n",
    "            moonfracmin=0.0, moonfracmax=1.0,\n",
    "            moonsepmin=0.0, moonsepmax=120.0,\n",
    "           )\n",
    "```"
   ]
  },
  {
   "cell_type": "code",
   "execution_count": null,
   "metadata": {},
   "outputs": [
    {
     "name": "stdout",
     "output_type": "stream",
     "text": [
      "[{'AIRMASS': 1.0, 'SEEING': 1.1, 'MOONALT': 30, 'MOONSEP': 120, 'exptimemin': 300, 'exptimemax': 720, 'MOONFRAC': 0.8}, {'AIRMASS': 1.0, 'SEEING': 1.1, 'MOONALT': 30, 'MOONSEP': 120, 'EXPTIME': 600, 'moonfracmin': 0.6, 'moonfracmax': 0.98}]\n"
     ]
    }
   ],
   "source": [
    "from desistudy import get_predefined_sim_dict, get_predefined_obs_dict\n",
    "\n",
    "all_sims = []\n",
    "all_obsconds = []\n",
    "#simnames = ['sim{:02d}'.format(args.sim)]\n",
    "simnames = ['sim07','sim08']#['sim01','sim02','sim03','sim04']\n",
    "for simname in simnames:\n",
    "    all_sims.append(get_predefined_sim_dict(simname))\n",
    "    all_obsconds.append(get_predefined_obs_dict(simname))\n",
    "\n",
    "print(all_obsconds)\n",
    "\n",
    "sims = np.atleast_1d(all_sims)\n",
    "conditions = np.atleast_1d(all_obsconds)"
   ]
  },
  {
   "cell_type": "markdown",
   "metadata": {},
   "source": [
    "### Generate Spectra"
   ]
  },
  {
   "cell_type": "code",
   "execution_count": null,
   "metadata": {
    "scrolled": true
   },
   "outputs": [
    {
     "name": "stdout",
     "output_type": "stream",
     "text": [
      "INFO:<ipython-input-11-1eeb3b5cc42c>:6:<module>: Now performing sim sim07\n",
      "INFO:io.py:1013:read_basis_templates: Reading /global/project/projectdirs/desi/spectro/templates/basis_templates/v2.5/bgs_templates_v2.1.fits metadata.\n",
      "INFO:io.py:1025:read_basis_templates: Reading /global/project/projectdirs/desi/spectro/templates/basis_templates/v2.5/bgs_templates_v2.1.fits\n",
      "Writing /global/project/projectdirs/desi/spectro/sim/bgs/kremin/flat_priors/sim07/bgs-sim07-simdata.fits\n",
      "Writing /global/project/projectdirs/desi/spectro/sim/bgs/kremin/flat_priors/sim07/bgs-sim07-000-true.fits\n",
      "INFO:quickspectra.py:54:sim_spectra: Starting simulation of 200 spectra\n"
     ]
    },
    {
     "name": "stderr",
     "output_type": "stream",
     "text": [
      "WARNING: The unit 'dex' could not be saved to FITS format [astropy.io.fits.convenience]\n"
     ]
    },
    {
     "name": "stdout",
     "output_type": "stream",
     "text": [
      "DEBUG:simexp.py:398:simulate_spectra: loading specsim desi config desi\n",
      "DEBUG:simexp.py:402:simulate_spectra: creating specsim desi simulator\n"
     ]
    },
    {
     "name": "stderr",
     "output_type": "stream",
     "text": [
      "/global/common/software/desi/cori/desiconda/20180130-1.2.4-spec/conda/lib/python3.6/site-packages/astropy/table/column.py:1096: MaskedArrayFutureWarning: setting an item on a masked array which has a shared mask will not copy the mask and also change the original mask array in the future.\n",
      "Check the NumPy 1.11 release notes for more information.\n",
      "  ma.MaskedArray.__setitem__(self, index, value)\n"
     ]
    },
    {
     "name": "stdout",
     "output_type": "stream",
     "text": [
      "INFO:simexp.py:424:simulate_spectra: MJD not in obsconditions, using DATE-OBS 2009-06-18T12:00:00.000\n",
      "DEBUG:simexp.py:428:simulate_spectra: obsconditions SEEING = 1.100000023841858\n",
      "DEBUG:simexp.py:428:simulate_spectra: obsconditions EXPTIME = 355.096818357708\n",
      "DEBUG:simexp.py:428:simulate_spectra: obsconditions AIRMASS = 1.0\n",
      "DEBUG:simexp.py:428:simulate_spectra: obsconditions MOONFRAC = 0.800000011920929\n",
      "DEBUG:simexp.py:428:simulate_spectra: obsconditions MOONALT = 30.0\n",
      "DEBUG:simexp.py:428:simulate_spectra: obsconditions MOONSEP = 120.0\n",
      "DEBUG:simexp.py:652:get_source_types: bgs 200 targets\n",
      "DEBUG:simexp.py:468:simulate_spectra: running simulation with fastsim fiber loss method\n",
      "DEBUG:simexp.py:474:simulate_spectra: source types: 200 bgs\n",
      "INFO:quickspectra.py:203:sim_spectra: Wrote /global/project/projectdirs/desi/spectro/sim/bgs/kremin/flat_priors/sim07/bgs-sim07-000.fits\n",
      "Writing /global/project/projectdirs/desi/spectro/sim/bgs/kremin/flat_priors/sim07/bgs-sim07-001-true.fits\n",
      "INFO:quickspectra.py:54:sim_spectra: Starting simulation of 200 spectra\n"
     ]
    },
    {
     "name": "stderr",
     "output_type": "stream",
     "text": [
      "WARNING: The unit 'dex' could not be saved to FITS format [astropy.io.fits.convenience]\n"
     ]
    },
    {
     "name": "stdout",
     "output_type": "stream",
     "text": [
      "DEBUG:simexp.py:398:simulate_spectra: loading specsim desi config desi\n",
      "DEBUG:simexp.py:402:simulate_spectra: creating specsim desi simulator\n",
      "INFO:simexp.py:424:simulate_spectra: MJD not in obsconditions, using DATE-OBS 2009-06-18T12:00:00.000\n",
      "DEBUG:simexp.py:428:simulate_spectra: obsconditions SEEING = 1.100000023841858\n",
      "DEBUG:simexp.py:428:simulate_spectra: obsconditions EXPTIME = 568.6386975990126\n",
      "DEBUG:simexp.py:428:simulate_spectra: obsconditions AIRMASS = 1.0\n",
      "DEBUG:simexp.py:428:simulate_spectra: obsconditions MOONFRAC = 0.800000011920929\n",
      "DEBUG:simexp.py:428:simulate_spectra: obsconditions MOONALT = 30.0\n",
      "DEBUG:simexp.py:428:simulate_spectra: obsconditions MOONSEP = 120.0\n",
      "DEBUG:simexp.py:652:get_source_types: bgs 200 targets\n",
      "DEBUG:simexp.py:468:simulate_spectra: running simulation with fastsim fiber loss method\n",
      "DEBUG:simexp.py:474:simulate_spectra: source types: 200 bgs\n",
      "INFO:quickspectra.py:203:sim_spectra: Wrote /global/project/projectdirs/desi/spectro/sim/bgs/kremin/flat_priors/sim07/bgs-sim07-001.fits\n",
      "Writing /global/project/projectdirs/desi/spectro/sim/bgs/kremin/flat_priors/sim07/bgs-sim07-002-true.fits\n",
      "INFO:quickspectra.py:54:sim_spectra: Starting simulation of 200 spectra\n",
      "DEBUG:simexp.py:398:simulate_spectra: loading specsim desi config desi\n",
      "DEBUG:simexp.py:402:simulate_spectra: creating specsim desi simulator\n",
      "INFO:simexp.py:424:simulate_spectra: MJD not in obsconditions, using DATE-OBS 2009-06-18T12:00:00.000\n",
      "DEBUG:simexp.py:428:simulate_spectra: obsconditions SEEING = 1.100000023841858\n",
      "DEBUG:simexp.py:428:simulate_spectra: obsconditions EXPTIME = 312.4049870269069\n",
      "DEBUG:simexp.py:428:simulate_spectra: obsconditions AIRMASS = 1.0\n",
      "DEBUG:simexp.py:428:simulate_spectra: obsconditions MOONFRAC = 0.800000011920929\n",
      "DEBUG:simexp.py:428:simulate_spectra: obsconditions MOONALT = 30.0\n",
      "DEBUG:simexp.py:428:simulate_spectra: obsconditions MOONSEP = 120.0\n",
      "DEBUG:simexp.py:652:get_source_types: bgs 200 targets\n",
      "DEBUG:simexp.py:468:simulate_spectra: running simulation with fastsim fiber loss method\n",
      "DEBUG:simexp.py:474:simulate_spectra: source types: 200 bgs\n"
     ]
    }
   ],
   "source": [
    "from desistudy import bgs_sim_spectra\n",
    "from desistudy import bgs_redshifts\n",
    "from desistudy import bgs_gather_results\n",
    "\n",
    "for sim,cond in zip(sims,conditions):\n",
    "    log.info(\"Now performing sim {}\".format(sim['suffix']))\n",
    "    bgs_sim_spectra(sim, cond, simdir, verbose=False, overwrite=overwrite_spectra)\n",
    "    log.info(\"Finished simulating templates\")\n",
    "    bgs_redshifts(sim, simdir=simdir, overwrite=overwrite_redshifts)\n",
    "    log.info(\"Finished redshift fitting\")\n",
    "    bgs_gather_results(sim, simdir=simdir, overwrite=overwrite_results)\n",
    "    log.info(\"Finished gathering results\")"
   ]
  },
  {
   "cell_type": "markdown",
   "metadata": {},
   "source": [
    "## Fit the redshifts.\n",
    "\n",
    "This step took ~1.8 seconds per spectrum, ~3 minutes per 100 spectra, or ~30 minutes for all 1000 spectra with my 4-core laptop."
   ]
  },
  {
   "cell_type": "code",
   "execution_count": null,
   "metadata": {},
   "outputs": [],
   "source": [
    "# from desistudy import bgs_redshifts\n",
    "\n",
    "# for sim in sims:\n",
    "#     bgs_redshifts(sim, simdir=simdir, overwrite=overwrite_redshifts)"
   ]
  },
  {
   "cell_type": "markdown",
   "metadata": {},
   "source": [
    "## Gather the results."
   ]
  },
  {
   "cell_type": "code",
   "execution_count": null,
   "metadata": {},
   "outputs": [],
   "source": [
    "# from desistudy import bgs_gather_results\n",
    "\n",
    "# for sim in sims:\n",
    "#     bgs_gather_results(sim, simdir=simdir, overwrite=overwrite_results)"
   ]
  }
 ],
 "metadata": {
  "kernelspec": {
   "display_name": "DESI 18.2a",
   "language": "python",
   "name": "desi-18.2a"
  },
  "language_info": {
   "codemirror_mode": {
    "name": "ipython",
    "version": 3
   },
   "file_extension": ".py",
   "mimetype": "text/x-python",
   "name": "python",
   "nbconvert_exporter": "python",
   "pygments_lexer": "ipython3",
   "version": "3.6.4"
  }
 },
 "nbformat": 4,
 "nbformat_minor": 2
}
